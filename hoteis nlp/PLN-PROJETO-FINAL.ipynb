{
 "cells": [
  {
   "cell_type": "markdown",
   "metadata": {},
   "source": [
    "\n",
    "# Projeto de Processamento de Linguagem Natural\n",
    "\n",
    "### Integrantes:\n",
    "\n",
    "\n",
    "Gustavo Henrique \n",
    "\n",
    "Esdras Santana\n",
    "\n",
    "Ismael Araujo\n"
   ]
  },
  {
   "cell_type": "code",
   "execution_count": 3,
   "metadata": {},
   "outputs": [],
   "source": [
    "#importando as bibliotecas necessarias\n",
    "import os\n",
    "import pandas as pd"
   ]
  },
  {
   "cell_type": "code",
   "execution_count": 4,
   "metadata": {},
   "outputs": [],
   "source": [
    "# assumindo que o csv esteja na mesma pasta local do arquivo.\n",
    "df = pd.read_csv('hoteis.csv')"
   ]
  },
  {
   "cell_type": "markdown",
   "metadata": {},
   "source": [
    "mostrando colunas para serem trabalhados"
   ]
  },
  {
   "cell_type": "code",
   "execution_count": 5,
   "metadata": {},
   "outputs": [
    {
     "name": "stdout",
     "output_type": "stream",
     "text": [
      "Index(['address', 'categories', 'city', 'country', 'latitude', 'longitude',\n",
      "       'name', 'postalCode', 'province', 'reviews.date', 'reviews.dateAdded',\n",
      "       'reviews.doRecommend', 'reviews.id', 'reviews.rating', 'reviews.text',\n",
      "       'reviews.title', 'reviews.userCity', 'reviews.username',\n",
      "       'reviews.userProvince'],\n",
      "      dtype='object')\n"
     ]
    }
   ],
   "source": [
    "# nome das colunas\n",
    "print(df.columns)"
   ]
  },
  {
   "cell_type": "code",
   "execution_count": 6,
   "metadata": {},
   "outputs": [
    {
     "data": {
      "text/plain": [
       "(35912, 19)"
      ]
     },
     "execution_count": 6,
     "metadata": {},
     "output_type": "execute_result"
    }
   ],
   "source": [
    "# numero de linhas e colunas\n",
    "df.shape"
   ]
  },
  {
   "cell_type": "code",
   "execution_count": 7,
   "metadata": {},
   "outputs": [
    {
     "data": {
      "text/html": [
       "<div>\n",
       "<style scoped>\n",
       "    .dataframe tbody tr th:only-of-type {\n",
       "        vertical-align: middle;\n",
       "    }\n",
       "\n",
       "    .dataframe tbody tr th {\n",
       "        vertical-align: top;\n",
       "    }\n",
       "\n",
       "    .dataframe thead th {\n",
       "        text-align: right;\n",
       "    }\n",
       "</style>\n",
       "<table border=\"1\" class=\"dataframe\">\n",
       "  <thead>\n",
       "    <tr style=\"text-align: right;\">\n",
       "      <th></th>\n",
       "      <th>address</th>\n",
       "      <th>categories</th>\n",
       "      <th>city</th>\n",
       "      <th>country</th>\n",
       "      <th>latitude</th>\n",
       "      <th>longitude</th>\n",
       "      <th>name</th>\n",
       "      <th>postalCode</th>\n",
       "      <th>province</th>\n",
       "      <th>reviews.date</th>\n",
       "      <th>reviews.dateAdded</th>\n",
       "      <th>reviews.doRecommend</th>\n",
       "      <th>reviews.id</th>\n",
       "      <th>reviews.rating</th>\n",
       "      <th>reviews.text</th>\n",
       "      <th>reviews.title</th>\n",
       "      <th>reviews.userCity</th>\n",
       "      <th>reviews.username</th>\n",
       "      <th>reviews.userProvince</th>\n",
       "    </tr>\n",
       "  </thead>\n",
       "  <tbody>\n",
       "    <tr>\n",
       "      <th>0</th>\n",
       "      <td>Riviera San Nicol 11/a</td>\n",
       "      <td>Hotels</td>\n",
       "      <td>Mableton</td>\n",
       "      <td>US</td>\n",
       "      <td>45.421611</td>\n",
       "      <td>12.376187</td>\n",
       "      <td>Hotel Russo Palace</td>\n",
       "      <td>30126</td>\n",
       "      <td>GA</td>\n",
       "      <td>2013-09-22T00:00:00Z</td>\n",
       "      <td>2016-10-24T00:00:25Z</td>\n",
       "      <td>NaN</td>\n",
       "      <td>NaN</td>\n",
       "      <td>4.0</td>\n",
       "      <td>Pleasant 10 min walk along the sea front to th...</td>\n",
       "      <td>Good location away from the crouds</td>\n",
       "      <td>NaN</td>\n",
       "      <td>Russ (kent)</td>\n",
       "      <td>NaN</td>\n",
       "    </tr>\n",
       "    <tr>\n",
       "      <th>1</th>\n",
       "      <td>Riviera San Nicol 11/a</td>\n",
       "      <td>Hotels</td>\n",
       "      <td>Mableton</td>\n",
       "      <td>US</td>\n",
       "      <td>45.421611</td>\n",
       "      <td>12.376187</td>\n",
       "      <td>Hotel Russo Palace</td>\n",
       "      <td>30126</td>\n",
       "      <td>GA</td>\n",
       "      <td>2015-04-03T00:00:00Z</td>\n",
       "      <td>2016-10-24T00:00:25Z</td>\n",
       "      <td>NaN</td>\n",
       "      <td>NaN</td>\n",
       "      <td>5.0</td>\n",
       "      <td>Really lovely hotel. Stayed on the very top fl...</td>\n",
       "      <td>Great hotel with Jacuzzi bath!</td>\n",
       "      <td>NaN</td>\n",
       "      <td>A Traveler</td>\n",
       "      <td>NaN</td>\n",
       "    </tr>\n",
       "    <tr>\n",
       "      <th>2</th>\n",
       "      <td>Riviera San Nicol 11/a</td>\n",
       "      <td>Hotels</td>\n",
       "      <td>Mableton</td>\n",
       "      <td>US</td>\n",
       "      <td>45.421611</td>\n",
       "      <td>12.376187</td>\n",
       "      <td>Hotel Russo Palace</td>\n",
       "      <td>30126</td>\n",
       "      <td>GA</td>\n",
       "      <td>2014-05-13T00:00:00Z</td>\n",
       "      <td>2016-10-24T00:00:25Z</td>\n",
       "      <td>NaN</td>\n",
       "      <td>NaN</td>\n",
       "      <td>5.0</td>\n",
       "      <td>Ett mycket bra hotell. Det som drog ner betyge...</td>\n",
       "      <td>Lugnt l��ge</td>\n",
       "      <td>NaN</td>\n",
       "      <td>Maud</td>\n",
       "      <td>NaN</td>\n",
       "    </tr>\n",
       "    <tr>\n",
       "      <th>3</th>\n",
       "      <td>Riviera San Nicol 11/a</td>\n",
       "      <td>Hotels</td>\n",
       "      <td>Mableton</td>\n",
       "      <td>US</td>\n",
       "      <td>45.421611</td>\n",
       "      <td>12.376187</td>\n",
       "      <td>Hotel Russo Palace</td>\n",
       "      <td>30126</td>\n",
       "      <td>GA</td>\n",
       "      <td>2013-10-27T00:00:00Z</td>\n",
       "      <td>2016-10-24T00:00:25Z</td>\n",
       "      <td>NaN</td>\n",
       "      <td>NaN</td>\n",
       "      <td>5.0</td>\n",
       "      <td>We stayed here for four nights in October. The...</td>\n",
       "      <td>Good location on the Lido.</td>\n",
       "      <td>NaN</td>\n",
       "      <td>Julie</td>\n",
       "      <td>NaN</td>\n",
       "    </tr>\n",
       "    <tr>\n",
       "      <th>4</th>\n",
       "      <td>Riviera San Nicol 11/a</td>\n",
       "      <td>Hotels</td>\n",
       "      <td>Mableton</td>\n",
       "      <td>US</td>\n",
       "      <td>45.421611</td>\n",
       "      <td>12.376187</td>\n",
       "      <td>Hotel Russo Palace</td>\n",
       "      <td>30126</td>\n",
       "      <td>GA</td>\n",
       "      <td>2015-03-05T00:00:00Z</td>\n",
       "      <td>2016-10-24T00:00:25Z</td>\n",
       "      <td>NaN</td>\n",
       "      <td>NaN</td>\n",
       "      <td>5.0</td>\n",
       "      <td>We stayed here for four nights in October. The...</td>\n",
       "      <td>������ ���������������</td>\n",
       "      <td>NaN</td>\n",
       "      <td>sungchul</td>\n",
       "      <td>NaN</td>\n",
       "    </tr>\n",
       "  </tbody>\n",
       "</table>\n",
       "</div>"
      ],
      "text/plain": [
       "                  address categories      city country   latitude  longitude  \\\n",
       "0  Riviera San Nicol 11/a     Hotels  Mableton      US  45.421611  12.376187   \n",
       "1  Riviera San Nicol 11/a     Hotels  Mableton      US  45.421611  12.376187   \n",
       "2  Riviera San Nicol 11/a     Hotels  Mableton      US  45.421611  12.376187   \n",
       "3  Riviera San Nicol 11/a     Hotels  Mableton      US  45.421611  12.376187   \n",
       "4  Riviera San Nicol 11/a     Hotels  Mableton      US  45.421611  12.376187   \n",
       "\n",
       "                 name postalCode province          reviews.date  \\\n",
       "0  Hotel Russo Palace      30126       GA  2013-09-22T00:00:00Z   \n",
       "1  Hotel Russo Palace      30126       GA  2015-04-03T00:00:00Z   \n",
       "2  Hotel Russo Palace      30126       GA  2014-05-13T00:00:00Z   \n",
       "3  Hotel Russo Palace      30126       GA  2013-10-27T00:00:00Z   \n",
       "4  Hotel Russo Palace      30126       GA  2015-03-05T00:00:00Z   \n",
       "\n",
       "      reviews.dateAdded  reviews.doRecommend  reviews.id  reviews.rating  \\\n",
       "0  2016-10-24T00:00:25Z                  NaN         NaN             4.0   \n",
       "1  2016-10-24T00:00:25Z                  NaN         NaN             5.0   \n",
       "2  2016-10-24T00:00:25Z                  NaN         NaN             5.0   \n",
       "3  2016-10-24T00:00:25Z                  NaN         NaN             5.0   \n",
       "4  2016-10-24T00:00:25Z                  NaN         NaN             5.0   \n",
       "\n",
       "                                        reviews.text  \\\n",
       "0  Pleasant 10 min walk along the sea front to th...   \n",
       "1  Really lovely hotel. Stayed on the very top fl...   \n",
       "2  Ett mycket bra hotell. Det som drog ner betyge...   \n",
       "3  We stayed here for four nights in October. The...   \n",
       "4  We stayed here for four nights in October. The...   \n",
       "\n",
       "                        reviews.title reviews.userCity reviews.username  \\\n",
       "0  Good location away from the crouds              NaN      Russ (kent)   \n",
       "1      Great hotel with Jacuzzi bath!              NaN       A Traveler   \n",
       "2                         Lugnt l��ge              NaN             Maud   \n",
       "3          Good location on the Lido.              NaN            Julie   \n",
       "4              ������ ���������������              NaN         sungchul   \n",
       "\n",
       "  reviews.userProvince  \n",
       "0                  NaN  \n",
       "1                  NaN  \n",
       "2                  NaN  \n",
       "3                  NaN  \n",
       "4                  NaN  "
      ]
     },
     "execution_count": 7,
     "metadata": {},
     "output_type": "execute_result"
    }
   ],
   "source": [
    "df.head()"
   ]
  },
  {
   "cell_type": "markdown",
   "metadata": {},
   "source": [
    "###  informações."
   ]
  },
  {
   "cell_type": "code",
   "execution_count": 8,
   "metadata": {},
   "outputs": [
    {
     "name": "stdout",
     "output_type": "stream",
     "text": [
      "<class 'pandas.core.frame.DataFrame'>\n",
      "RangeIndex: 35912 entries, 0 to 35911\n",
      "Data columns (total 19 columns):\n",
      " #   Column                Non-Null Count  Dtype  \n",
      "---  ------                --------------  -----  \n",
      " 0   address               35912 non-null  object \n",
      " 1   categories            35912 non-null  object \n",
      " 2   city                  35912 non-null  object \n",
      " 3   country               35912 non-null  object \n",
      " 4   latitude              35826 non-null  float64\n",
      " 5   longitude             35826 non-null  float64\n",
      " 6   name                  35912 non-null  object \n",
      " 7   postalCode            35857 non-null  object \n",
      " 8   province              35912 non-null  object \n",
      " 9   reviews.date          35653 non-null  object \n",
      " 10  reviews.dateAdded     35912 non-null  object \n",
      " 11  reviews.doRecommend   0 non-null      float64\n",
      " 12  reviews.id            0 non-null      float64\n",
      " 13  reviews.rating        35050 non-null  float64\n",
      " 14  reviews.text          35890 non-null  object \n",
      " 15  reviews.title         34290 non-null  object \n",
      " 16  reviews.userCity      16263 non-null  object \n",
      " 17  reviews.username      35869 non-null  object \n",
      " 18  reviews.userProvince  17518 non-null  object \n",
      "dtypes: float64(5), object(14)\n",
      "memory usage: 5.2+ MB\n"
     ]
    }
   ],
   "source": [
    "df.info()"
   ]
  },
  {
   "cell_type": "code",
   "execution_count": 9,
   "metadata": {},
   "outputs": [
    {
     "data": {
      "text/html": [
       "<div>\n",
       "<style scoped>\n",
       "    .dataframe tbody tr th:only-of-type {\n",
       "        vertical-align: middle;\n",
       "    }\n",
       "\n",
       "    .dataframe tbody tr th {\n",
       "        vertical-align: top;\n",
       "    }\n",
       "\n",
       "    .dataframe thead th {\n",
       "        text-align: right;\n",
       "    }\n",
       "</style>\n",
       "<table border=\"1\" class=\"dataframe\">\n",
       "  <thead>\n",
       "    <tr style=\"text-align: right;\">\n",
       "      <th></th>\n",
       "      <th>latitude</th>\n",
       "      <th>longitude</th>\n",
       "      <th>reviews.doRecommend</th>\n",
       "      <th>reviews.id</th>\n",
       "      <th>reviews.rating</th>\n",
       "    </tr>\n",
       "  </thead>\n",
       "  <tbody>\n",
       "    <tr>\n",
       "      <th>count</th>\n",
       "      <td>35826.000000</td>\n",
       "      <td>35826.000000</td>\n",
       "      <td>0.0</td>\n",
       "      <td>0.0</td>\n",
       "      <td>35050.000000</td>\n",
       "    </tr>\n",
       "    <tr>\n",
       "      <th>mean</th>\n",
       "      <td>37.285008</td>\n",
       "      <td>-85.725758</td>\n",
       "      <td>NaN</td>\n",
       "      <td>NaN</td>\n",
       "      <td>3.776431</td>\n",
       "    </tr>\n",
       "    <tr>\n",
       "      <th>std</th>\n",
       "      <td>6.996544</td>\n",
       "      <td>33.062263</td>\n",
       "      <td>NaN</td>\n",
       "      <td>NaN</td>\n",
       "      <td>1.416195</td>\n",
       "    </tr>\n",
       "    <tr>\n",
       "      <th>min</th>\n",
       "      <td>-25.436750</td>\n",
       "      <td>-166.559040</td>\n",
       "      <td>NaN</td>\n",
       "      <td>NaN</td>\n",
       "      <td>0.000000</td>\n",
       "    </tr>\n",
       "    <tr>\n",
       "      <th>25%</th>\n",
       "      <td>33.827340</td>\n",
       "      <td>-104.868200</td>\n",
       "      <td>NaN</td>\n",
       "      <td>NaN</td>\n",
       "      <td>3.000000</td>\n",
       "    </tr>\n",
       "    <tr>\n",
       "      <th>50%</th>\n",
       "      <td>37.936026</td>\n",
       "      <td>-86.822972</td>\n",
       "      <td>NaN</td>\n",
       "      <td>NaN</td>\n",
       "      <td>4.000000</td>\n",
       "    </tr>\n",
       "    <tr>\n",
       "      <th>75%</th>\n",
       "      <td>41.672491</td>\n",
       "      <td>-77.044550</td>\n",
       "      <td>NaN</td>\n",
       "      <td>NaN</td>\n",
       "      <td>5.000000</td>\n",
       "    </tr>\n",
       "    <tr>\n",
       "      <th>max</th>\n",
       "      <td>63.877674</td>\n",
       "      <td>115.164407</td>\n",
       "      <td>NaN</td>\n",
       "      <td>NaN</td>\n",
       "      <td>10.000000</td>\n",
       "    </tr>\n",
       "  </tbody>\n",
       "</table>\n",
       "</div>"
      ],
      "text/plain": [
       "           latitude     longitude  reviews.doRecommend  reviews.id  \\\n",
       "count  35826.000000  35826.000000                  0.0         0.0   \n",
       "mean      37.285008    -85.725758                  NaN         NaN   \n",
       "std        6.996544     33.062263                  NaN         NaN   \n",
       "min      -25.436750   -166.559040                  NaN         NaN   \n",
       "25%       33.827340   -104.868200                  NaN         NaN   \n",
       "50%       37.936026    -86.822972                  NaN         NaN   \n",
       "75%       41.672491    -77.044550                  NaN         NaN   \n",
       "max       63.877674    115.164407                  NaN         NaN   \n",
       "\n",
       "       reviews.rating  \n",
       "count    35050.000000  \n",
       "mean         3.776431  \n",
       "std          1.416195  \n",
       "min          0.000000  \n",
       "25%          3.000000  \n",
       "50%          4.000000  \n",
       "75%          5.000000  \n",
       "max         10.000000  "
      ]
     },
     "execution_count": 9,
     "metadata": {},
     "output_type": "execute_result"
    }
   ],
   "source": [
    "df.describe()"
   ]
  },
  {
   "cell_type": "code",
   "execution_count": 10,
   "metadata": {},
   "outputs": [
    {
     "data": {
      "text/plain": [
       "address                     0\n",
       "categories                  0\n",
       "city                        0\n",
       "country                     0\n",
       "latitude                   86\n",
       "longitude                  86\n",
       "name                        0\n",
       "postalCode                 55\n",
       "province                    0\n",
       "reviews.date              259\n",
       "reviews.dateAdded           0\n",
       "reviews.doRecommend     35912\n",
       "reviews.id              35912\n",
       "reviews.rating            862\n",
       "reviews.text               22\n",
       "reviews.title            1622\n",
       "reviews.userCity        19649\n",
       "reviews.username           43\n",
       "reviews.userProvince    18394\n",
       "dtype: int64"
      ]
     },
     "execution_count": 10,
     "metadata": {},
     "output_type": "execute_result"
    }
   ],
   "source": [
    "# colunas e quantidades de nulos\n",
    "df.isnull().sum()"
   ]
  },
  {
   "cell_type": "markdown",
   "metadata": {},
   "source": [
    "## Limpeza dos dados"
   ]
  },
  {
   "cell_type": "markdown",
   "metadata": {},
   "source": [
    "Nesse projeto não iremos utilizar todas as colunas, então retirando e deixando o apenas essencial."
   ]
  },
  {
   "cell_type": "code",
   "execution_count": 11,
   "metadata": {},
   "outputs": [],
   "source": [
    "trash = ['latitude', 'longitude', 'reviews.userProvince', 'reviews.userCity', 'reviews.doRecommend', 'reviews.id','province']\n",
    "df = df.drop(columns=trash)"
   ]
  },
  {
   "cell_type": "code",
   "execution_count": 12,
   "metadata": {},
   "outputs": [],
   "source": [
    "# excluindo dados duplicados se existir.\n",
    "df = df.drop_duplicates()"
   ]
  },
  {
   "cell_type": "code",
   "execution_count": 13,
   "metadata": {},
   "outputs": [
    {
     "name": "stdout",
     "output_type": "stream",
     "text": [
      "<class 'pandas.core.frame.DataFrame'>\n",
      "Int64Index: 35905 entries, 0 to 35911\n",
      "Data columns (total 12 columns):\n",
      " #   Column             Non-Null Count  Dtype  \n",
      "---  ------             --------------  -----  \n",
      " 0   address            35905 non-null  object \n",
      " 1   categories         35905 non-null  object \n",
      " 2   city               35905 non-null  object \n",
      " 3   country            35905 non-null  object \n",
      " 4   name               35905 non-null  object \n",
      " 5   postalCode         35850 non-null  object \n",
      " 6   reviews.date       35646 non-null  object \n",
      " 7   reviews.dateAdded  35905 non-null  object \n",
      " 8   reviews.rating     35043 non-null  float64\n",
      " 9   reviews.text       35883 non-null  object \n",
      " 10  reviews.title      34283 non-null  object \n",
      " 11  reviews.username   35862 non-null  object \n",
      "dtypes: float64(1), object(11)\n",
      "memory usage: 3.6+ MB\n"
     ]
    }
   ],
   "source": [
    "df.info()"
   ]
  },
  {
   "cell_type": "code",
   "execution_count": 14,
   "metadata": {},
   "outputs": [],
   "source": [
    "# mudando de object para datetime\n",
    "df['reviews.date'] = pd.to_datetime(df['reviews.date'], errors='coerce')\n",
    "df['reviews.dateAdded'] = pd.to_datetime(df['reviews.dateAdded'], errors='coerce')"
   ]
  },
  {
   "cell_type": "code",
   "execution_count": 15,
   "metadata": {},
   "outputs": [
    {
     "name": "stdout",
     "output_type": "stream",
     "text": [
      "<class 'pandas.core.frame.DataFrame'>\n",
      "Int64Index: 35905 entries, 0 to 35911\n",
      "Data columns (total 12 columns):\n",
      " #   Column             Non-Null Count  Dtype              \n",
      "---  ------             --------------  -----              \n",
      " 0   address            35905 non-null  object             \n",
      " 1   categories         35905 non-null  object             \n",
      " 2   city               35905 non-null  object             \n",
      " 3   country            35905 non-null  object             \n",
      " 4   name               35905 non-null  object             \n",
      " 5   postalCode         35850 non-null  object             \n",
      " 6   reviews.date       35646 non-null  datetime64[ns, UTC]\n",
      " 7   reviews.dateAdded  35905 non-null  datetime64[ns, UTC]\n",
      " 8   reviews.rating     35043 non-null  float64            \n",
      " 9   reviews.text       35883 non-null  object             \n",
      " 10  reviews.title      34283 non-null  object             \n",
      " 11  reviews.username   35862 non-null  object             \n",
      "dtypes: datetime64[ns, UTC](2), float64(1), object(9)\n",
      "memory usage: 3.6+ MB\n"
     ]
    }
   ],
   "source": [
    "df.info()"
   ]
  },
  {
   "cell_type": "code",
   "execution_count": 16,
   "metadata": {},
   "outputs": [
    {
     "data": {
      "text/plain": [
       "address                 0\n",
       "categories              0\n",
       "city                    0\n",
       "country                 0\n",
       "name                    0\n",
       "postalCode             55\n",
       "reviews.date          259\n",
       "reviews.dateAdded       0\n",
       "reviews.rating        862\n",
       "reviews.text           22\n",
       "reviews.title        1622\n",
       "reviews.username       43\n",
       "dtype: int64"
      ]
     },
     "execution_count": 16,
     "metadata": {},
     "output_type": "execute_result"
    }
   ],
   "source": [
    "df.isnull().sum()"
   ]
  },
  {
   "cell_type": "code",
   "execution_count": 17,
   "metadata": {},
   "outputs": [],
   "source": [
    "# Preencher valores numéricos ausentes com a média\n",
    "df['reviews.rating'].fillna(df['reviews.rating'].mean(), inplace=True)\n",
    "\n",
    "# Preencher valores categóricos ausentes com o valor mais comum\n",
    "df['postalCode'].fillna(df['postalCode'].mode()[0], inplace=True)\n",
    "\n",
    "# Remover linhas com dados ausentes\n",
    "df.dropna(subset=['reviews.date', 'reviews.text'], inplace=True)"
   ]
  },
  {
   "cell_type": "code",
   "execution_count": 18,
   "metadata": {},
   "outputs": [
    {
     "data": {
      "text/plain": [
       "address                 0\n",
       "categories              0\n",
       "city                    0\n",
       "country                 0\n",
       "name                    0\n",
       "postalCode              0\n",
       "reviews.date            0\n",
       "reviews.dateAdded       0\n",
       "reviews.rating          0\n",
       "reviews.text            0\n",
       "reviews.title        1383\n",
       "reviews.username       43\n",
       "dtype: int64"
      ]
     },
     "execution_count": 18,
     "metadata": {},
     "output_type": "execute_result"
    }
   ],
   "source": [
    "df.isnull().sum()"
   ]
  },
  {
   "cell_type": "code",
   "execution_count": 19,
   "metadata": {},
   "outputs": [],
   "source": [
    "# usuarios sem nome recebera Anonimo, para não termos valores nulo no nosso data\n",
    "df['reviews.username'].fillna('Anônimo', inplace=True)\n",
    "df['reviews.title'].fillna('No Title', inplace=True)"
   ]
  },
  {
   "cell_type": "code",
   "execution_count": 20,
   "metadata": {},
   "outputs": [
    {
     "data": {
      "text/plain": [
       "address              0\n",
       "categories           0\n",
       "city                 0\n",
       "country              0\n",
       "name                 0\n",
       "postalCode           0\n",
       "reviews.date         0\n",
       "reviews.dateAdded    0\n",
       "reviews.rating       0\n",
       "reviews.text         0\n",
       "reviews.title        0\n",
       "reviews.username     0\n",
       "dtype: int64"
      ]
     },
     "execution_count": 20,
     "metadata": {},
     "output_type": "execute_result"
    }
   ],
   "source": [
    "df.isnull().sum()"
   ]
  },
  {
   "cell_type": "code",
   "execution_count": 21,
   "metadata": {},
   "outputs": [],
   "source": [
    "df['reviews.text'] = df['reviews.text'].str.lower()\n",
    "df['reviews.title'] = df['reviews.title'].str.lower()"
   ]
  },
  {
   "cell_type": "markdown",
   "metadata": {},
   "source": [
    "Verificando quantidade de Hotéis únicos."
   ]
  },
  {
   "cell_type": "code",
   "execution_count": 22,
   "metadata": {},
   "outputs": [
    {
     "name": "stdout",
     "output_type": "stream",
     "text": [
      "Counter({'The Alexandrian, Autograph Collection': 1185, 'Howard Johnson Inn - Newburgh': 712, 'Americas Best Value Inn': 562, 'Fiesta Inn and Suites': 545, 'Ip Casino Resort Spa': 392, 'Best Western Plus Waterville Grand Hotel': 334, 'Hampton Inn Virginia Beach Oceanfront North': 334, 'Comfort Suites': 326, 'New York Marriott Marquis': 320, 'Best Western of Long Beach': 317, 'Plaza Hotel and Casino - Las Vegas': 289, 'Doubletree By Hilton West Palm Beach Airport': 276, 'Anaheim Marriott Suites': 275, 'Jacksonville Plaza Hotel and Suites': 264, 'Red Roof Inn Erie': 243, 'Hotel Deca - A Noble House Hotel': 237, 'Holiday Inn Express Hotel and Suites Va Beach Oceanfront': 229, 'Doubletree By Hilton Hotel Bay City - Riverfront': 227, 'Best Western Plus French Quarter Landmark Hotel': 215, 'Mountain Lodge At Telluride - A Noble House Resort': 201, 'Drury Inn and Suites Columbus Convention Center': 200, 'Comfort Inn': 197, 'Hotel Valencia Santana Row': 197, 'Quality Inn and Suites': 184, 'Hampton Inn Tucson-airport': 184, 'Holiday Inn Express Hotel and Suites Cambridge': 182, 'Tidewater Inn': 180, 'Garden of The Gods Club & Resort': 172, 'Hampton Inn and Suites Annapolis': 171, 'Hampton Inn Sarasota - I-75 Bee Ridge': 167, 'La Quinta Inn and Suites Sunrise': 166, 'Elk Springs Resort': 166, '40 Berkeley Hostel': 161, 'Good Nite Inn Rohnert Park': 160, 'Cliffrose Lodge Gardens': 158, 'La Quinta Inn Auburn Worcester': 156, \"Sportsmen's Lodge\": 155, 'Holiday Inn Fond Du Lac': 153, 'Bayside Resort Hotel': 152, 'Holiday Inn Express San Clemente': 151, 'Country Inn and Suites By Carlson Galena': 147, 'Hyatt Place Atlanta/alpharetta/north Point Mall': 145, 'Travelodge Anaheim Convention Center': 141, 'Quality Inn': 138, 'Dockers Inn': 137, 'Best Western Hospitality Hotel and Suites': 136, 'Wine Valley Lodge': 133, 'Chelsea Inn': 133, 'Gardena Terrace Inn': 131, 'La Quinta Inn and Suites Nashville Franklin': 127, 'Simpson House Inn': 126, 'Comfort Inn and Suites': 126, 'Towneplace Suites Albany University Area': 123, 'Hampton Inn Abilene': 122, 'Lakeway Resort & Spa': 122, 'Best Western Plus San Marcos Inn': 121, 'Best Western Plus Kelly Inn': 121, 'Pueblo Bonito Sunset Beach Resort & Spa - All Inclusive': 120, 'Wingate By Wyndham Pueblo': 120, 'Quality Inn and Suites Irvine Spectrum': 120, 'Inn At Queen Anne': 116, 'Days Inn Warren': 115, 'Solstice': 114, 'Holiday Inn Express - Harrisburg East': 114, 'Days Inn and Suites Albany': 111, 'Americinn Coralville': 110, 'Hyatt Place San Antonio Airport - Quarry Market': 109, \"Harrah's Laughlin Hotel and Casino\": 108, 'Four Seasons Hotel St. Louis': 107, 'Red Roof Inn Cedar Rapids': 107, 'Holiday Inn Express Dahlonega': 105, 'Ambassadors Inn and Suites': 104, 'Pelican Shores Inn': 103, 'Hampton Inn & Suites Fort Worth-west-i-30': 103, 'Days Inn & Suites Castle Rock': 102, 'Sombrero Resort and Marina': 102, 'The Savoy Hotel': 102, 'Microtel Inn By Wyndham Knoxville': 101, 'Palm Suites': 101, 'La Quinta Inn and Suites Meridian': 101, 'Hampton Inn & Suites-downtown-tutwiler': 100, 'Lamothe House': 97, 'Hotel Aura Sfo': 96, 'Hampton Inn Fayetteville Fort Bragg': 95, 'Hyatt Place Pittsburgh Cranberry': 95, 'Arizona Inn of Prescott Valley': 95, 'Casa Del Mar Inn Bandb': 95, 'Residence Inn By Marriott Irvine John Wayne Airport': 94, 'Campus Inn & Suites Eugene Downtown': 94, 'Extended Stay America - Orlando Theme Parks - Vineland Rd.': 93, 'Red Roof Inn St Louis - Troy': 92, 'Holiday Inn Express & Suites West Monroe': 92, 'Quality Inn Long Beach Airport': 91, 'Super 8 Fort Collins': 89, 'Holiday Inn Express Hotel and Stes Port Clinton-catawba Island': 88, 'Super 8 Metropolis': 88, 'Residence Inn By Marriott Fort Lauderdale Weston': 88, 'Country Inn and Suites By Carlson Corbin': 87, 'Hilton San Diego Airport/harbor Island': 87, 'Holiday Inn Express Colton-riverside North': 86, 'La Quinta Inn Calhoun': 86, 'Hawthorn Suites By Wyndham Livermore Wine Country': 85, 'Country Inn and Suites By Carlson Charlotte University Place': 85, 'Mccamly Plaza Hotel': 85, 'Cherokee Lodge Bed and Breakfast': 85, 'Ramada Vandalia': 84, 'Comfort Inn - Springfield': 84, 'Fairfield Inn Saginaw': 84, 'Super 8 Schenect/albany Area': 84, 'Candlewood Suites Eugene Springfield': 84, 'Mandarin Oriental Jakarta': 83, 'Hotel Silken Siete Coronas': 83, 'Fairfield Inn & Suites Atlanta Perimeter Center': 83, 'Baymont Inn and Suites Boone': 83, 'Howard Johnson Inn Columbia': 81, 'Springhill Suites Columbia': 81, 'Hyatt House Colorado Springs': 81, 'Knights Inn Carmel Hill': 81, 'Country Inn Walker': 80, 'Hilton Princess San Pedro Sula': 80, 'Days Inn West Memphis': 80, 'Parkside Inn At Incline': 80, 'Super 8 Big Cabin Vinita Ok': 80, 'Econo Lodge': 79, 'Monterey Beach Dunes Inn': 79, 'Best Western Knoxville Suites': 78, 'Hampton Inn Dublin': 78, 'Greenstay Hotel and Suites': 78, 'Super 8 Ithaca': 77, 'La Quinta Inn & Suites Dublin': 77, 'Holiday Inn Express & Suites Phoenix Downtown - Ballpark': 77, 'Holiday Inn Manhattan 6th Ave - Chelsea': 77, 'Americas Best Value Inn - Medical Center/airport': 77, 'Holiday Inn Express and Suites Gahanna/columbus Airport E': 77, 'Econo Lodge Miles City': 77, 'Holiday Inn Canyon De Chelly': 76, 'Super 8 Elko Nv': 76, 'Wingate By Wyndham Chantilly / Dulles Airport': 76, 'Best Western Hartford Hotel & Suites': 76, 'Holiday Inn Express Hotel and Suites Hesperia': 76, 'Durango Travelodge': 75, 'Extended Stay America - Fort Lauderdale - Davie': 75, 'Sleep Inn At Harbour View': 75, 'Quality Inn and Suites Big Rapids': 75, 'La Quinta Inn and Suites Tucson - Reid Park': 74, 'Vista Hotel On Lake Tarpon': 74, 'Discovery Inn': 74, 'Holiday Inn Express Hotel and Suites Raleigh-wakefield': 74, 'Extended Stay America - Columbia - Northwest Harbison': 74, 'Fiesta Inn Centro Historico': 73, 'Comfort Inn Birmingham - Irondale': 73, 'Microtel Inn and Suites By Wyndham Burlington': 73, 'Cherry Orchard Inn': 72, 'Anglers Inn': 72, 'Comfort Inn Huntingdon': 72, 'Warwick Denver': 71, 'Baymont Inn & Suites Griffin': 71, 'Extended Stay America - Rockford - I-90': 71, 'Western Inn-glacier Park': 71, 'Super 8 Kansas City Airport': 71, \"Beach Cove 411 Tower A Sierra's 1 Bedroom Condo By Prista Management\": 71, 'Holiday Inn Victorville': 71, 'Hyatt Place Utica': 70, 'Fireside Inn Santa Cruz': 70, 'Days Inn Fort Wayne': 70, 'Monarch Inn': 70, 'Holiday Inn Express Hotel and Suites Meadowlands Area': 70, 'Quality Suites Intercontinental Airport West': 69, 'La Quinta Inn & Suites Bryant': 69, 'La Quinta Inn and Suites Miami Cutler Bay': 69, 'Super 8 - Effingham': 69, 'Super 8 Batesville Ar': 69, 'Hotel Roc Flamingo': 69, 'Courtyard By Marriott Rockaway Mount Arlington': 69, 'Days Inn Lanham Washington Dc': 69, 'Ramada': 68, 'Quality Inn & Suites': 68, 'Courtyard Burlington Harbor': 68, 'Courtyard By Marriott Downtown Boise': 68, 'Gran Melia Victoria': 67, 'Hampton Inn New Orleans - Downtown': 67, 'Super 8 Manhattan Ks': 67, 'Candlewood Suites Huntersville': 67, 'Best Western Holiday Hills': 67, 'Holiday Inn Express Hotel and Suites Memphis Southwind': 66, 'American Star Inn and Suites Atlantic City': 66, 'Cambria Hotel & Suites': 66, 'Fairbridge Inn': 66, 'Super 8 Indianapolis': 66, 'Hotel Relais De Margaux Golf and Spa': 65, 'Extended Stay America - Raleigh - Cary - Regency Parkway S': 65, 'Norwood Inn and Suites': 65, 'Hotel Eug��ne En Ville': 65, 'Castle Kona Reef': 65, 'The Houstonian Hotel': 64, 'Best Western Plus Arlington North Hotel and Suites': 64, 'Hotel Casena Dei Colli': 64, 'Candlewood Suites Oklahoma City-moore': 64, 'Excellence Riviera Cancun - Adults Only - All Inclusive': 64, 'Super 8 - Upland': 64, 'La Quinta Inn and Suites Hopkinsville': 64, 'Super 8 Belle Fourche': 64, 'Fairfield Inn By Marriott Binghamton': 63, 'Extended Stay America - Chicago - Westmont - Oak Brook': 63, 'Hilton Garden Inn Austin Nw - Arboretum': 63, 'Quality Inn Johnson City': 63, 'Crossland Economy Studios - Lake Charles - Sulphur': 63, 'Quality Inn Gulfport': 63, 'Hotel De La Ville': 62, 'Super 8 Bradenton Sarasota Area': 62, 'Ibis Wuerzburg City': 62, 'Comfort Suites Southport': 61, 'Innisbrook': 61, 'Hotel Metropole': 61, 'Comfort Inn and Suites Bend': 61, 'Best Western Hotel De Neuville': 61, 'Comfort Inn Livermore': 60, 'Country Inn & Suites By Carlson': 60, 'Comfort Inn Deland - Near University': 60, 'Days Inn North Columbia Ft. Jackson': 60, 'Merritt House Inn': 60, 'Hotel Garibaldi': 60, 'Hampton Inn Grand Junction Downtown/historic Main Street': 60, 'Comfort Suites Fort Pierce': 60, 'Hotel Portaventura': 59, 'Jvd Hotels': 59, 'Inn At Mendenhall': 59, 'Hilton Garden Inn Oconomowoc': 59, 'Holiday Inn Express Hotel & Suites Emporia': 59, 'Residence Inn By Marriott Deptford': 59, 'Eldorado Suites Hotel': 58, 'Hotel Roc Lago Rojo': 58, 'Homewood Suites - Mall of America': 58, 'Inter-hotel Orl��ans Nord': 58, 'Hotel Russo Palace': 57, 'Days Inn Branson / Near The Strip': 57, 'Hyatt Regency Kathmandu': 57, 'Fh Hotel Villa Fiesole': 57, 'Super 8 Dallas South': 57, 'Twelve Hotels & Residences': 57, 'Hotel An Der Philharmonie': 57, 'Fairfield Inn and Suites By Marriott Plainville': 57, 'Econo Lodge Bellmawr': 57, 'Quinta Real Acapulco': 57, 'Red Rest Inn': 56, 'Quality Inn and Suites Eugene-springfield': 56, 'The Jayakarta Bali': 56, 'Grand Hotel Cadenabbia': 56, 'Comfort Hotel Nation Pere Lachaise Paris 11': 56, \"Marriott's Mountainside At Park City\": 56, 'Hotel Adler Cavalieri': 56, 'Knights Inn Eau Claire': 56, 'Tryp Dusseldorf Krefeld Hotel': 55, 'Days Inn Bangor Airport': 55, 'The Westin Europa and Regina': 55, 'Mercure Curitiba Golden Hotel': 55, 'Radisson Blu Conference and Airport Hotel': 55, 'Best Western Silicon Valley Inn': 55, 'Super 8 Pittsburgh/monroeville': 54, 'Days Inn Ruther Glen Kings Dominion Area': 54, 'Country Inn and Suites By Carlson': 54, 'Hawthorn Suites Dayton North': 54, 'Sheraton Offenbach Hotel': 54, 'A Bed & Breakfast In Cambridge': 54, 'Residence Inn By Marriott Springdale': 54, 'Holiday Inn Express - Hillsboro': 54, 'Sleep Inn Slidell': 54, 'Holiday Inn Express & Suites Crossville': 54, 'Days Inn Brookings': 53, 'Holiday Inn Express and Suites Canyonville': 53, 'Melia Paris Champs-elys��es': 53, 'Clatskanie River Inn': 53, 'The Westin Buckhead': 53, 'Americas Best Value Inn and Suites': 52, 'Comfort Inn Montgomery': 52, 'City Express Irapuato': 52, 'Hotel Vier Jahreszeiten KÜhlungsborn': 51, 'Dallas/fort Worth Marriott Solana': 51, 'Hilton Santo Domingo': 51, 'Residence Inn By Marriott Hartford Downtown': 51, 'Villa Carlotta': 50, 'Una Hotel Forte Dei Marmi': 50, 'Hampton Inn Bloomington West': 50, 'Super 8 Madison': 50, 'The Abbey Resort': 50, 'Inturotel Esmeralda Park': 50, 'The National Conference Center': 49, 'Rips Country Inn': 49, 'Super 8 Worthington Minnesota': 49, 'H��tel Sezz Paris': 49, 'Homewood Suites By Hilton Albuquerque - Journal Center': 49, 'La Quinta Inn & Suites Auburn': 48, 'The Citizen Hotel, Autograph Collection': 48, 'The Kinney - Venice Beach': 48, 'Hudson Hotel - Book Direct': 48, 'Quality Inn Spearfish': 47, \"Comfort Inn and Suites O'fallon\": 47, 'Americinn Lodge Suites Princeton': 47, 'Campanile Lyon Ecully': 47, 'Baymont Inn and Suites Enid': 46, 'Super 8 Kingston': 46, 'Hotel Columbia': 46, 'Fairfield Inn and Suites By Marriott Idaho Falls': 46, 'Quality Inn Near Six Flags': 45, 'Double Eagle Hotel and Casino': 45, 'Homewood Suites By Hilton Indpls Airport / Plainfield In': 44, 'Microtel Inn Suites By Wyndham San Antonio By Seaworld': 44, 'Best Western Saint-etienne Aeroport': 44, 'Holiday Inn Express Grove City (outlet Center)': 42, 'Staybridge Suites Chicago - Glenview': 42, 'Wingate By Wyndham Lagrange': 41, 'Big Mountain Lodge': 40, 'Hotel Borgo Verde': 40, 'Arion': 40, 'Country Inn & Suites By Carlson, Rocky Mount, Nc': 40, 'The Inn At Bella Vista': 40, 'Residence Inn Billings': 39, 'Hilton Garden Inn Kauai Wailua Bay': 38, 'Drury Inn & Suites Sikeston': 38, 'Hampton Inn Ft Chiswell': 38, 'Best Western University Inn & Suites': 38, 'Berney Fly Bed and Breakfast': 37, 'Hotel Vorbach': 37, 'Hotel Lavonia': 37, 'Candlewood Suites Lexington': 37, 'Elba Sara Beach & Golf Resort': 37, 'Super 8 Longmont / Del Camino': 36, 'Embassy Suites By Hilton Houston Downtown': 36, 'Holiday Inn Express & Suites Lenoir City (knoxville Area)': 35, 'Knights Inn Aiken': 35, 'Super 8 Crete Ne': 35, 'El Dorado Seaside Suites By Karisma - All Inclusive': 35, 'H��tel Les Bruy��res': 35, 'Sea View Motel': 35, 'Fairfield Inn & Suites Peoria East': 34, 'Miramar Boutique Hotel': 34, 'Days Inn Bowling Green': 34, 'Economy Inn': 33, 'Holiday Inn Express & Suites Bay City': 33, 'Super 8 Alamosa': 32, 'Amisos Hotel': 32, 'Fairfield Inn Suites Chattanooga South/east Ridge': 32, 'Concord Apartments By Boq Lodging': 32, 'Hampton Inn Rockford': 32, 'Hyatt Dulles': 32, 'Days Inn El Reno Ok': 31, 'Mt Gardner Inn': 31, 'Tulip Inn Turin West': 31, 'Americinn Lodge Suites Austin': 31, 'Americinn Lodge & Suites Appleton': 31, 'Super 8 Blackwell Ok': 31, 'Rodeway Inn': 31, 'Summit At Big Sky': 31, 'Springhill Suites By Marriott Sarasota Bradenton': 30, 'Lewis River Inn': 30, 'Extended Stay America San Diego - Carlsbad Village By The Sea': 29, 'Staybridge Suites Tyler University Area': 28, 'Martin Mason Hotel': 28, 'Days Inn Kuttawa': 28, 'The Inn On Negley': 28, 'Courtyard Columbus Worthington': 28, 'Holiday Inn & Suites Green Bay Stadium': 28, 'Fort Conde Inn': 27, 'The Inn @ St. Botolph': 26, 'The Chestnut Boutique Hotel': 26, 'Hotel Mc Call': 26, 'Blue Jay Motel': 26, 'Springhill Suites Marriott Colorado Springs South': 26, 'Days Inn': 26, 'Haltom Inn': 25, 'The Governor Hotel': 25, 'Bailey House Bed & Breakfast': 25, 'Candlewood Suites West Springfield': 24, 'Suburban Extended Stay of Memphis Bartlett': 24, 'Residence Inn By Marriott Tucson Williams Centre': 24, 'Hotel Millersburg': 23, 'Samui Cliff View Resort & Spa': 23, 'Comfort Inn Humboldt Bay': 23, 'Websters Manor': 23, 'Candlewood Suites Indianapolis Northwest': 23, 'Super 8 Columbia Dwntwn Sc': 22, 'Econo Lodge St Robert': 22, 'Spirit Tree Inn B & B': 22, 'Profile Deluxe Motel': 22, 'Eaglecrest Ski Area': 22, 'Brightwood Inn Country Inn': 22, 'Best Western Plus Circle Inn': 22, 'Little Paradise Hotel': 21, 'Polynesian Plaza': 21, 'Lake Motel': 21, 'Quality Inn & Suites Hanes Mall': 21, 'Turf Motel': 21, 'Knights Inn Amarillo Airport': 21, 'Super 8 Motel Fairmont': 21, 'Hampton Inn & Suites Syracuse/carrier Circle': 21, 'Comfort Inn & Suites': 21, 'Best Western Plus Humboldt House Inn': 21, 'Comfort Suites Shreveport': 21, 'Agate Beach Motel': 21, 'Point Randall Resort': 21, 'Motel 6': 20, 'Hilton Garden Inn Burlington Downtown': 20, 'Wyndham Vacation Resorts Towers On The Grove': 20, 'Super 8 Cloquet': 20, 'High Desert Motel': 20, 'Aspen Haus Bed and Breakfast': 20, 'Homewood Suites Dallas-market Center': 20, 'Travelodge Ruther Glen': 20, 'Motel 6 Fort Bragg': 20, 'Acorn Motor Inn': 20, 'Residence Inn Burlington Colchester': 20, 'Town Country Motel': 19, 'Holiday Inn Express & Suites Portland': 19, 'Suburban Extended Stay Warner Robins': 19, 'Fairfield Inn Suites Spearfish': 19, 'Best Western Eufaula Inn': 19, 'Antlers Inn': 19, 'Days Inn Lincolnton': 19, 'Mainsail Motel & Cottages': 18, 'Super 8 Gretna': 18, 'Osage Village Inn': 17, 'Days Inn Bloomington': 17, 'Atlantic House': 17, 'Four Seasons Country Inn': 17, 'Blue Boar Inn': 17, 'Azul Beach Hotel By Karisma Gourmet Inclusive': 16, 'Americinn Lodge Suites Oscoda - Ausable River': 16, 'Super 8': 16, 'Sheraton Mission Valley San Diego Hotel': 16, 'Pullman Rail Journeys': 16, 'Four Points By Sheraton Memphis Southwind': 16, '1785 Inn': 16, 'Mt. Washington Bed and Breakfast': 16, 'Super 8 Columbia East': 16, 'Hilton Americas-houston': 16, 'Best Western Owasso Inn & Suites': 15, 'Mansfield Plantation Inc': 15, 'Holiday Inn Lumberton North - I-95': 15, 'Holiday Inn Express Hotel & Suites Chicago-deerfield/lincolnshire': 15, 'Budget Inn': 15, 'Happy Tails Hotel & Playland': 15, 'North Country Inn B & B': 14, 'Wyndham Resort At Fairfield Mountains': 14, 'Red Carpet Inn': 14, 'Best Western Hotel Goldenmile Milan': 14, 'Eden Park Guest House': 14, '1900 House': 14, 'Sunset Inn': 14, 'Hometown Inn': 13, 'The Grove Seaside Hotel': 13, 'Travelodge Shakopee': 13, 'Village Lodge': 13, 'Main Street Bed & Breakfast': 13, 'Silver Run Cabins': 13, 'Equestrian Estates Horse Farm Bed and Breakfast': 13, 'Inn & Suites': 13, 'Marylander Hotel Condo': 13, 'Nippersink Country Club, Inc.': 13, 'Raton Pass Inn': 13, 'Cliffs 7305 By Redawning': 13, 'The Point': 12, 'Raintree Inn': 12, 'Briarcliff': 12, 'The Litchfield Inn': 12, 'Homewood Suites By Hilton': 12, 'Boardroom Motel': 12, 'Crestview Condominiums': 12, 'Hampton Inn Roanoke/salem': 12, 'Holiday Inn Express Suites Woodland Hills': 12, 'The Concorde Inn': 12, 'Five Seasuns Bed & Breakfast Inn': 12, 'Bridgetown Mill House Restaurant Inn': 11, 'La Quinta Inn-houston': 11, 'Holiday Inn Express Atlanta Ne - I-85 Clairmont': 11, 'Courtyard Hattiesburg': 11, 'Budget Host Inn': 11, 'Bent Elbow': 11, 'Candlewood Suites Olathe': 11, 'Falls Motel': 11, 'Arrowhead Motel and Rv Park': 11, 'Canyon Gate Motel': 11, 'Bay Shores Yachttennisclub 514 2 Br Condo By Redawning': 11, 'Juniper Lane Guest House': 11, 'Patriots Inn': 11, 'Bear Cove Inn': 11, 'Twin Gables of Woodstock': 11, 'Dor-shada Resort By The Sea': 11, 'The Booker-lewis': 11, 'Eldorado Inn': 11, 'Rustic Inn': 11, 'Country Lodge Motel': 10, 'Janmere Motel': 10, 'El Cortez': 10, 'Blue Top Inn': 10, 'Royal Inn': 10, 'Hotel Monaco Chicago, A Kimpton Hotel': 10, 'White Cliff Manor Bed and Breakfast': 10, 'Motor Inns of America': 10, 'Meadow Farm Bed and Breakfast': 10, 'Berkshire By The Sea A Vri Resort': 10, 'Clarion Inn': 10, 'Rangeland Court Motel & Rv': 10, 'Aspen Alps': 10, 'Great Basin Inn': 10, 'Key West Inn - Clanton': 10, 'Ihg': 10, 'Red Roof Inn Somerset': 10, 'Holiday Inn Express Hotel Suites Sedalia': 10, 'Comfort Suites Mount Vernon': 10, 'Gooding Hotel Bed Breakfast': 10, 'Cougar Crest Lodge': 10, 'Hyatt Centric Arlington': 10, 'Courtyard San Marcos': 10, 'Patalya Thermal Resort': 10, 'Narcis': 10, 'Great American Inn Suites': 10, 'Holiday Inn Express Lubbock South': 10, 'Southside Motel': 10, 'Hampton Inn Suites Columbus': 10, 'Sumner Motor Inn': 10, 'Clarion Suites Philadelphia': 10, 'The Lake Point Conference Center': 10, \"America's Best Value Inn\": 10, 'Sonoma Coast Villa Spa': 10, 'Centennial Bed and Breakfast': 9, 'Desert Sands Motel': 9, 'Hotel Guadalmedina': 9, 'Menehune Reservations': 9, 'The Ritz-carlton Orlando, Grande Lakes': 9, 'Twin Pines Motel': 9, 'H��tel Marinca and Spa': 8, 'Hitching Horse Inn': 8, 'Microtel Inn By Wyndham Southern Pines': 8, 'Best Western': 7, 'Monarch of Rancho Mirag': 7, 'Seiling Motel': 7, 'Uptown Motel': 7, 'Wisconsin-aire Motel': 7, 'Intown Suites El Paso': 7, 'Longville Inn': 7, 'Milliken Creek Inn': 7, 'Forest Hill Inn': 7, 'Skidway Lake Motel': 6, 'Days Inn Geneva': 6, 'Super 8 Opelousas': 6, 'Fairfield Inn & Suites Des Moines Airport': 6, 'Mission Sands Vacation Rentals': 6, 'Manor Vail Lodge': 5, 'Microtel of Ste Genevieve': 5, 'Days Inn Barstow': 5, 'Holiday Inn Express': 5, 'Comfort Suites South': 5, 'Marriott Hotels Resorts Suites': 5, 'Sutton Bay Resort': 5, 'Springhill Suites By Marriott South Bend/mishawaka': 5, 'Pizza Hut': 5, 'Sterling Motel': 5, 'Beach Haven Vacation Rental House': 5, 'Ambassador Inn Albuquerque': 5, 'Best Western Plus': 4, 'Extended Stay America': 4, 'Penzion Accom': 4, 'Marquesa Hotel & Cafe Marquesa': 4, 'Garden Bed and Breakfast': 4, 'Porto Vista Hotel': 4, 'Boiling Springs Resort Canoe Rental': 4, 'Old Wheeler Hotel': 4, 'Mar Mar Resort Tackle': 4, 'Best Western Plus-seaport Inn': 4, 'Sybaris Pool Suites': 4, 'Sci�� On Martin': 4, 'Holiday Inn Express Eagle': 4, 'Hampton Inn & Suites Millington': 4, 'Sands Central Inn Hot Springs': 4, 'Vacation Side Travel': 4, \"Sand's Motel\": 4, 'Lake Raystown Resort Lodge & Conference Center': 4, 'Intown Suites Nashville North': 4, 'Royal Dutch Inn': 4, 'Howard Johnson': 3, 'Best Western Luxury Inn': 3, 'Ramada Inn': 3, 'Arcola Inn': 3, 'Holiday Inn Express Howe (sturgis, Mi)': 3, 'Holiday Inn Express Hotel & Suites Hillview': 3, 'Fireline Hotel': 3, 'Holiday Inn Spearfish-convention Center': 3, 'Days Inn Newton': 3, 'Camelback Resort Aquatopia Indoor Waterpark': 3, 'Rodeway Inn-tacoma': 3, 'Rapid City Days Inn': 3, 'Red Lion Anaheim Maingate Hotel': 3, 'Magnuson Hotel Summerton': 3, 'Lighthouse Motel': 3, 'Holiday Inn Express Hotel & Suites Bloomington-normal': 3, 'Knights Inn New Castle/wilmington': 3, 'La Quinta': 2, 'Ocean Breeze Motel Apts': 2, 'Glendale Gaslight Inn': 2, 'Travelodge': 2, 'Parkway Inn Jellico': 2, 'Lakeview Lodge': 2, 'Best Western Burlington Inn': 2, 'Relax Inn': 2, 'Hotel Olcott': 2, 'Radisson Hotel Hauppauge-long Island': 2, 'Greektown Casino': 2, 'Holiday Inn Rutland-killington Area': 2, 'Regency Inn Motel': 2, 'Holiday Inn-bayside': 2, 'Palomar Washington Dc, A Kimpton Hotel': 2, 'Bosselmans Pump Pantry Motel': 2, 'Masters Inn': 2, 'Holiday Inn Express Hotel Suites Cookeville': 2, 'Microtel Inn': 2, 'Ambiance': 2, 'Candlewood Suites Fort Smith': 2, 'Hotel Corpus Christi': 2, 'Sleep Inn': 2, 'Octagon Inn': 2, 'Miami Executive Hotel': 2, 'Extended Stay America Princeton - West Windsor': 2, 'Park Terrace Suites': 2, 'Mineola Motel': 2, 'Drury Inn & Suites San Antonio Northwest Medical Center': 2, 'Westernaire Motel': 2, 'Villager Inn Motel': 2, 'La Posada Lodge & Casitas, An Ascend Hotel Collection Member': 2, 'Innpoints Worldwide': 2, 'Outside Inn': 2, 'Extended Stay America - Bloomington - Normal': 2, \"Super 8 Chicago O'hare Airport\": 2, 'Breakers Hotel': 2, 'Lazy T Motel': 2, 'Thunderbird Executive Inn and Conference Center': 1, 'Hyatt Regency Reston': 1, 'Sportsmen Motel': 1, 'Enchanted Castle Hotel': 1, 'Budget Inn South': 1, 'Howard Johnson Gallup': 1, 'Days Inn & Suites Vicksburg': 1, 'Astro Motel': 1, 'Seaside Oceanfront Inn & Restaurant': 1, 'Extended Stay America - Los Angeles - Ontario Airport': 1, 'Days Inn Marion': 1, 'Columbia Gorge Riverside Lodge': 1, 'Inroads Ireland Tours': 1, 'Holiday Inn Express Pinetop': 1, 'La Quinta Inn': 1, 'Cadillac Motel': 1, 'Hampton Inn & Suites Crescent City': 1, 'Clarion': 1, 'Four Points-kansas': 1, 'Fairfield Inn/suites-marriott': 1, 'Holiday Inn Express & Suites Weslaco': 1, 'Adobe Nido Bed & Breakfast': 1, 'Econo Lodge Inn & Suites': 1, \"Sam's Town Hotel & Gmblng Hall\": 1, 'Advance Motel': 1, 'Hampton Inn': 1, 'Scenic View Motel': 1, 'Kilauea Lodge Restaurant': 1, 'Holiday Inn Express Henderson': 1, 'Whiteface Chalet': 1, 'Country Inns Suites': 1, 'Sherwood Hills Resort': 1, 'Mandarin Oriental Hotel Group': 1, 'Hampton Inn-st Robert': 1, 'Ubaa Old Crawford Inn': 1, 'Quality Inn & Suites Historic St. Charles': 1, 'Days Inn Berea Ky': 1, 'Abbeville Inn': 1, 'Hampton Inn Jackson Hole': 1, 'Royal Inn Motel': 1, 'Rodeway Inn Bushnell': 1, 'Super 8 Sallisaw': 1, 'Econo Lodge Big Spring': 1, \"Fort's Cedar View\": 1, 'Knights Inn': 1, 'Comfort Hotel Bernau': 1, 'La Brea Hotel': 1, 'Holiday Inn Express & Suites Lawrence': 1, 'Homestead Studio Suites': 1, 'Jellico Days Inn North Tennessee': 1, 'Hampton Inn Waco': 1, 'Sand Dunes Motel': 1, 'Knights Inn - Wilmington': 1, 'Spinners Tailspin Inn': 1, 'Best Western Rama Inn & Suites': 1, 'Holiday Inn Express & Suites South Portland': 1, 'Club Quarters, Rockefeller Center': 1, 'Riverside Motel and Cabins': 1, 'Days Inn Branson Mo': 1, 'Texan Inn': 1, 'Days Inn Tallulah': 1, 'Holiday Inn Express & Suites Willows': 1, 'Casino Queen Rv Park': 1, 'Days Inn-amarillo-medical Ctr': 1, 'Yakima Inn': 1, 'Homeplace Inn and Suites': 1, 'Crossroads Hotel': 1, 'Helios Resort': 1, 'La Quinta Inn & Suites Chicago Tinley Park': 1, 'The Merritt Center and Lodge': 1, 'Courtyard By Marriott': 1, 'Desert Motel Restaurant': 1, 'Citrus Hills Lodge Hernando': 1, 'Pine Motel': 1, 'Rodeway Inn Airport': 1, 'Days Inn Statesville': 1, 'Super 8 Van Horn': 1, 'Sky-lit Motel': 1})\n"
     ]
    }
   ],
   "source": [
    "from collections import Counter\n",
    "contador = Counter(df['name'])\n",
    "\n",
    "print(contador)"
   ]
  },
  {
   "cell_type": "code",
   "execution_count": 23,
   "metadata": {},
   "outputs": [
    {
     "name": "stdout",
     "output_type": "stream",
     "text": [
      "O DataFrame possui 712 nomes de hotéis únicos.\n"
     ]
    }
   ],
   "source": [
    "num_nomes_unicos = len(contador)\n",
    "print(f'O DataFrame possui {num_nomes_unicos} nomes de hotéis únicos.')"
   ]
  },
  {
   "cell_type": "markdown",
   "metadata": {},
   "source": [
    "agrupando os os reviews de hoteis para cada nome de hotel"
   ]
  },
  {
   "cell_type": "code",
   "execution_count": 24,
   "metadata": {},
   "outputs": [],
   "source": [
    "conca_reviews = df.groupby('name')['reviews.text'].sum()"
   ]
  },
  {
   "cell_type": "code",
   "execution_count": 25,
   "metadata": {},
   "outputs": [],
   "source": [
    "conca_rating = df.groupby('name')['reviews.rating'].mean()"
   ]
  },
  {
   "cell_type": "code",
   "execution_count": 26,
   "metadata": {},
   "outputs": [],
   "source": [
    "conca_user = df.groupby('name')['reviews.username'].count()"
   ]
  },
  {
   "cell_type": "code",
   "execution_count": 50,
   "metadata": {},
   "outputs": [
    {
     "data": {
      "text/html": [
       "<div>\n",
       "<style scoped>\n",
       "    .dataframe tbody tr th:only-of-type {\n",
       "        vertical-align: middle;\n",
       "    }\n",
       "\n",
       "    .dataframe tbody tr th {\n",
       "        vertical-align: top;\n",
       "    }\n",
       "\n",
       "    .dataframe thead th {\n",
       "        text-align: right;\n",
       "    }\n",
       "</style>\n",
       "<table border=\"1\" class=\"dataframe\">\n",
       "  <thead>\n",
       "    <tr style=\"text-align: right;\">\n",
       "      <th></th>\n",
       "      <th>rating</th>\n",
       "      <th>usuarios</th>\n",
       "      <th>media</th>\n",
       "    </tr>\n",
       "    <tr>\n",
       "      <th>name</th>\n",
       "      <th></th>\n",
       "      <th></th>\n",
       "      <th></th>\n",
       "    </tr>\n",
       "  </thead>\n",
       "  <tbody>\n",
       "    <tr>\n",
       "      <th>1785 Inn</th>\n",
       "      <td>42.000000</td>\n",
       "      <td>16</td>\n",
       "      <td>2.625000</td>\n",
       "    </tr>\n",
       "    <tr>\n",
       "      <th>1900 House</th>\n",
       "      <td>64.000000</td>\n",
       "      <td>14</td>\n",
       "      <td>4.571429</td>\n",
       "    </tr>\n",
       "    <tr>\n",
       "      <th>40 Berkeley Hostel</th>\n",
       "      <td>536.000000</td>\n",
       "      <td>161</td>\n",
       "      <td>3.329193</td>\n",
       "    </tr>\n",
       "    <tr>\n",
       "      <th>A Bed &amp; Breakfast In Cambridge</th>\n",
       "      <td>193.000000</td>\n",
       "      <td>54</td>\n",
       "      <td>3.574074</td>\n",
       "    </tr>\n",
       "    <tr>\n",
       "      <th>Abbeville Inn</th>\n",
       "      <td>3.776729</td>\n",
       "      <td>1</td>\n",
       "      <td>3.776729</td>\n",
       "    </tr>\n",
       "    <tr>\n",
       "      <th>...</th>\n",
       "      <td>...</td>\n",
       "      <td>...</td>\n",
       "      <td>...</td>\n",
       "    </tr>\n",
       "    <tr>\n",
       "      <th>Wingate By Wyndham Pueblo</th>\n",
       "      <td>532.000000</td>\n",
       "      <td>120</td>\n",
       "      <td>4.433333</td>\n",
       "    </tr>\n",
       "    <tr>\n",
       "      <th>Wisconsin-aire Motel</th>\n",
       "      <td>30.000000</td>\n",
       "      <td>7</td>\n",
       "      <td>4.285714</td>\n",
       "    </tr>\n",
       "    <tr>\n",
       "      <th>Wyndham Resort At Fairfield Mountains</th>\n",
       "      <td>55.000000</td>\n",
       "      <td>14</td>\n",
       "      <td>3.928571</td>\n",
       "    </tr>\n",
       "    <tr>\n",
       "      <th>Wyndham Vacation Resorts Towers On The Grove</th>\n",
       "      <td>81.000000</td>\n",
       "      <td>20</td>\n",
       "      <td>4.050000</td>\n",
       "    </tr>\n",
       "    <tr>\n",
       "      <th>Yakima Inn</th>\n",
       "      <td>1.000000</td>\n",
       "      <td>1</td>\n",
       "      <td>1.000000</td>\n",
       "    </tr>\n",
       "  </tbody>\n",
       "</table>\n",
       "<p>712 rows × 3 columns</p>\n",
       "</div>"
      ],
      "text/plain": [
       "                                                  rating  usuarios     media\n",
       "name                                                                        \n",
       "1785 Inn                                       42.000000        16  2.625000\n",
       "1900 House                                     64.000000        14  4.571429\n",
       "40 Berkeley Hostel                            536.000000       161  3.329193\n",
       "A Bed & Breakfast In Cambridge                193.000000        54  3.574074\n",
       "Abbeville Inn                                   3.776729         1  3.776729\n",
       "...                                                  ...       ...       ...\n",
       "Wingate By Wyndham Pueblo                     532.000000       120  4.433333\n",
       "Wisconsin-aire Motel                           30.000000         7  4.285714\n",
       "Wyndham Resort At Fairfield Mountains          55.000000        14  3.928571\n",
       "Wyndham Vacation Resorts Towers On The Grove   81.000000        20  4.050000\n",
       "Yakima Inn                                      1.000000         1  1.000000\n",
       "\n",
       "[712 rows x 3 columns]"
      ]
     },
     "execution_count": 50,
     "metadata": {},
     "output_type": "execute_result"
    }
   ],
   "source": [
    "import pandas\n",
    "dataset = df[\"name\"]\n",
    "dataset2 = pd.DataFrame(dataset)\n",
    "dataset2[\"rating\"] = df[\"reviews.rating\"]\n",
    "dataset2[\"usuarios\"] = df[\"reviews.username\"]\n",
    "name = dataset2.groupby('name').sum()\n",
    "user = dataset2.groupby('name').count()\n",
    "\n",
    "data = {\"rating\": name.rating, \"usuarios\":user.usuarios}\n",
    "data = pd.DataFrame(data)\n",
    "data[\"media\"] = data.rating / data.usuarios\n",
    "data"
   ]
  },
  {
   "cell_type": "code",
   "execution_count": 56,
   "metadata": {},
   "outputs": [
    {
     "data": {
      "text/html": [
       "<div>\n",
       "<style scoped>\n",
       "    .dataframe tbody tr th:only-of-type {\n",
       "        vertical-align: middle;\n",
       "    }\n",
       "\n",
       "    .dataframe tbody tr th {\n",
       "        vertical-align: top;\n",
       "    }\n",
       "\n",
       "    .dataframe thead th {\n",
       "        text-align: right;\n",
       "    }\n",
       "</style>\n",
       "<table border=\"1\" class=\"dataframe\">\n",
       "  <thead>\n",
       "    <tr style=\"text-align: right;\">\n",
       "      <th></th>\n",
       "      <th>media</th>\n",
       "    </tr>\n",
       "    <tr>\n",
       "      <th>name</th>\n",
       "      <th></th>\n",
       "    </tr>\n",
       "  </thead>\n",
       "  <tbody>\n",
       "    <tr>\n",
       "      <th>Pelican Shores Inn</th>\n",
       "      <td>8.368932</td>\n",
       "    </tr>\n",
       "    <tr>\n",
       "      <th>Hyatt Regency Kathmandu</th>\n",
       "      <td>8.354386</td>\n",
       "    </tr>\n",
       "    <tr>\n",
       "      <th>Candlewood Suites Eugene Springfield</th>\n",
       "      <td>8.241667</td>\n",
       "    </tr>\n",
       "    <tr>\n",
       "      <th>Holiday Inn Express Hotel and Suites Va Beach Oceanfront</th>\n",
       "      <td>5.284716</td>\n",
       "    </tr>\n",
       "    <tr>\n",
       "      <th>Hampton Inn Virginia Beach Oceanfront North</th>\n",
       "      <td>5.257282</td>\n",
       "    </tr>\n",
       "    <tr>\n",
       "      <th>Royal Inn Motel</th>\n",
       "      <td>5.000000</td>\n",
       "    </tr>\n",
       "    <tr>\n",
       "      <th>Arrowhead Motel and Rv Park</th>\n",
       "      <td>5.000000</td>\n",
       "    </tr>\n",
       "    <tr>\n",
       "      <th>Silver Run Cabins</th>\n",
       "      <td>5.000000</td>\n",
       "    </tr>\n",
       "    <tr>\n",
       "      <th>Inroads Ireland Tours</th>\n",
       "      <td>5.000000</td>\n",
       "    </tr>\n",
       "    <tr>\n",
       "      <th>Kilauea Lodge Restaurant</th>\n",
       "      <td>5.000000</td>\n",
       "    </tr>\n",
       "  </tbody>\n",
       "</table>\n",
       "</div>"
      ],
      "text/plain": [
       "                                                       media\n",
       "name                                                        \n",
       "Pelican Shores Inn                                  8.368932\n",
       "Hyatt Regency Kathmandu                             8.354386\n",
       "Candlewood Suites Eugene Springfield                8.241667\n",
       "Holiday Inn Express Hotel and Suites Va Beach O...  5.284716\n",
       "Hampton Inn Virginia Beach Oceanfront North         5.257282\n",
       "Royal Inn Motel                                     5.000000\n",
       "Arrowhead Motel and Rv Park                         5.000000\n",
       "Silver Run Cabins                                   5.000000\n",
       "Inroads Ireland Tours                               5.000000\n",
       "Kilauea Lodge Restaurant                            5.000000"
      ]
     },
     "execution_count": 56,
     "metadata": {},
     "output_type": "execute_result"
    }
   ],
   "source": [
    "data2 = pd.DataFrame(data['media'].sort_values(ascending=False)[0:10])\n",
    "data2"
   ]
  },
  {
   "cell_type": "code",
   "execution_count": 77,
   "metadata": {},
   "outputs": [
    {
     "data": {
      "text/html": [
       "<div>\n",
       "<style scoped>\n",
       "    .dataframe tbody tr th:only-of-type {\n",
       "        vertical-align: middle;\n",
       "    }\n",
       "\n",
       "    .dataframe tbody tr th {\n",
       "        vertical-align: top;\n",
       "    }\n",
       "\n",
       "    .dataframe thead th {\n",
       "        text-align: right;\n",
       "    }\n",
       "</style>\n",
       "<table border=\"1\" class=\"dataframe\">\n",
       "  <thead>\n",
       "    <tr style=\"text-align: right;\">\n",
       "      <th></th>\n",
       "      <th>media</th>\n",
       "      <th>reviews</th>\n",
       "    </tr>\n",
       "    <tr>\n",
       "      <th>name</th>\n",
       "      <th></th>\n",
       "      <th></th>\n",
       "    </tr>\n",
       "  </thead>\n",
       "  <tbody>\n",
       "    <tr>\n",
       "      <th>Pelican Shores Inn</th>\n",
       "      <td>8.368932</td>\n",
       "      <td>how many ways can one say that one of the best...</td>\n",
       "    </tr>\n",
       "    <tr>\n",
       "      <th>Hyatt Regency Kathmandu</th>\n",
       "      <td>8.354386</td>\n",
       "      <td>the 1900 house is a gorgeous victorian home me...</td>\n",
       "    </tr>\n",
       "    <tr>\n",
       "      <th>Candlewood Suites Eugene Springfield</th>\n",
       "      <td>8.241667</td>\n",
       "      <td>we booked this hostel because it was the cheap...</td>\n",
       "    </tr>\n",
       "    <tr>\n",
       "      <th>Holiday Inn Express Hotel and Suites Va Beach Oceanfront</th>\n",
       "      <td>5.284716</td>\n",
       "      <td>breakfast was the best, and the best thing abo...</td>\n",
       "    </tr>\n",
       "    <tr>\n",
       "      <th>Hampton Inn Virginia Beach Oceanfront North</th>\n",
       "      <td>5.257282</td>\n",
       "      <td>budget hotel offers standard amenities and low...</td>\n",
       "    </tr>\n",
       "    <tr>\n",
       "      <th>Royal Inn Motel</th>\n",
       "      <td>5.000000</td>\n",
       "      <td>when we arrived there were men smoking on both...</td>\n",
       "    </tr>\n",
       "    <tr>\n",
       "      <th>Arrowhead Motel and Rv Park</th>\n",
       "      <td>5.000000</td>\n",
       "      <td>wonderful little b&amp;b nestled right in the midd...</td>\n",
       "    </tr>\n",
       "    <tr>\n",
       "      <th>Silver Run Cabins</th>\n",
       "      <td>5.000000</td>\n",
       "      <td>one word. horrible. lol worst owner ever, comp...</td>\n",
       "    </tr>\n",
       "    <tr>\n",
       "      <th>Inroads Ireland Tours</th>\n",
       "      <td>5.000000</td>\n",
       "      <td>a little dated but totally comfortable. loved ...</td>\n",
       "    </tr>\n",
       "    <tr>\n",
       "      <th>Kilauea Lodge Restaurant</th>\n",
       "      <td>5.000000</td>\n",
       "      <td>cheap-quality room in industrial area. no rest...</td>\n",
       "    </tr>\n",
       "  </tbody>\n",
       "</table>\n",
       "</div>"
      ],
      "text/plain": [
       "                                                       media  \\\n",
       "name                                                           \n",
       "Pelican Shores Inn                                  8.368932   \n",
       "Hyatt Regency Kathmandu                             8.354386   \n",
       "Candlewood Suites Eugene Springfield                8.241667   \n",
       "Holiday Inn Express Hotel and Suites Va Beach O...  5.284716   \n",
       "Hampton Inn Virginia Beach Oceanfront North         5.257282   \n",
       "Royal Inn Motel                                     5.000000   \n",
       "Arrowhead Motel and Rv Park                         5.000000   \n",
       "Silver Run Cabins                                   5.000000   \n",
       "Inroads Ireland Tours                               5.000000   \n",
       "Kilauea Lodge Restaurant                            5.000000   \n",
       "\n",
       "                                                                                              reviews  \n",
       "name                                                                                                   \n",
       "Pelican Shores Inn                                  how many ways can one say that one of the best...  \n",
       "Hyatt Regency Kathmandu                             the 1900 house is a gorgeous victorian home me...  \n",
       "Candlewood Suites Eugene Springfield                we booked this hostel because it was the cheap...  \n",
       "Holiday Inn Express Hotel and Suites Va Beach O...  breakfast was the best, and the best thing abo...  \n",
       "Hampton Inn Virginia Beach Oceanfront North         budget hotel offers standard amenities and low...  \n",
       "Royal Inn Motel                                     when we arrived there were men smoking on both...  \n",
       "Arrowhead Motel and Rv Park                         wonderful little b&b nestled right in the midd...  \n",
       "Silver Run Cabins                                   one word. horrible. lol worst owner ever, comp...  \n",
       "Inroads Ireland Tours                               a little dated but totally comfortable. loved ...  \n",
       "Kilauea Lodge Restaurant                            cheap-quality room in industrial area. no rest...  "
      ]
     },
     "execution_count": 77,
     "metadata": {},
     "output_type": "execute_result"
    }
   ],
   "source": [
    "reviews_txt = []\n",
    "for j in range(10):\n",
    "    for k in range(len(conca_reviews.index)):\n",
    "        if data2.index[j].lower() == conca_reviews.index[k].lower():\n",
    "            reviews_txt.append(conca_reviews[j])\n",
    "data2[\"reviews\"] = reviews_txt\n",
    "data2"
   ]
  },
  {
   "cell_type": "markdown",
   "metadata": {},
   "source": [
    "## Tradutor dos reviews"
   ]
  },
  {
   "cell_type": "code",
   "execution_count": 81,
   "metadata": {},
   "outputs": [],
   "source": [
    "j = 0\n",
    "review_text_translate = []\n",
    "while j < len(reviews_txt):    \n",
    "        txt = \">>pt_BR<<\" + reviews_txt[j]\n",
    "        review_text_translate.append(txt)\n",
    "        j = j + 1\n"
   ]
  },
  {
   "cell_type": "code",
   "execution_count": 84,
   "metadata": {},
   "outputs": [],
   "source": [
    "import sentencepiece"
   ]
  },
  {
   "cell_type": "code",
   "execution_count": 85,
   "metadata": {},
   "outputs": [
    {
     "name": "stderr",
     "output_type": "stream",
     "text": [
      "C:\\Users\\dhull\\AppData\\Local\\Programs\\Python\\Python310\\lib\\site-packages\\transformers\\models\\marian\\tokenization_marian.py:194: UserWarning: Recommended: pip install sacremoses.\n",
      "  warnings.warn(\"Recommended: pip install sacremoses.\")\n"
     ]
    }
   ],
   "source": [
    "from transformers import AutoTokenizer, AutoModelForSeq2SeqLM\n",
    "model = AutoModelForSeq2SeqLM.from_pretrained(\"Helsinki-NLP/opus-mt-en-ROMANCE\")\n",
    "tokenizer = AutoTokenizer.from_pretrained(\"Helsinki-NLP/opus-mt-en-ROMANCE\")"
   ]
  },
  {
   "cell_type": "code",
   "execution_count": 86,
   "metadata": {},
   "outputs": [],
   "source": [
    "textos = []\n",
    "\n",
    "for i in range(10):\n",
    "    batch_input_str = (review_text_translate[i][0:2000])\n",
    "    encoded = tokenizer(batch_input_str, return_tensors = 'pt', padding=True)\n",
    "    translated = model.generate(**encoded)\n",
    "    textos.append(tokenizer.batch_decode(translated, skip_special_tokens=True))\n",
    "    "
   ]
  },
  {
   "cell_type": "markdown",
   "metadata": {},
   "source": [
    "## Traduzindo os reviews dos 10 melhores hotéis "
   ]
  },
  {
   "cell_type": "code",
   "execution_count": 88,
   "metadata": {},
   "outputs": [
    {
     "name": "stdout",
     "output_type": "stream",
     "text": [
      "Texto original:  how many ways can one say that one of the best restaurants in the mt. washington valley, nh has closed for good still a bb, but they've stopped serving the public. very sad. hopefully, they'll reconsider after a brief respite.i am shocked by how many good reviews this restaurant has received. the 2 star rating comprises the romantic atmosphere inside which provided us with a view of the white mountains from our dining table. it also includes the service which was attentive and friendly. the food however, was another story altogether and this in my view is what separates... morewe had a dinner there in early july. the food was very beautiful and delicious. the people are friendly. however, they made the food only when ordered, so it was very slow. if you are fine to stay long i would recommend this restaurant. if you just want to have a quick dinner ( 1 hour), dont even think of... moremy wife and i ate dinner at the 1785 inn during a weekend getaway to north conway. this restaurant by far has the highest quality food and fine dining experience in the area. the service is truly white glove service. the best part of the entire meal is the caesar salad. the wait staff makes this dish table side from... morevery reasonably priced, nice pub, great breakfast and an unbelievable view. winter or summer you won't forget this place.the meal was okay, but not more than that. we stayed at the 1785, so we got to compare the dinner to our breakfasts and the dinner was not of the quality of the daily breakfasts.billy the bartender is awesome - ask him about the seasonal infused vodka and enjoy!we dined here while visiting north conway. there is a very romantic ambience and the most beautiful view, especially at sunset. the food was good. the feel was continental. the service old school, thoughtful and professional. there aren't many places like this. it was a pleasurable evening.this restaurant was one of my wife's and i favorite in the north conway area. we had reservations to go \n",
      ", \n",
      " Texto traduzido:  Como muitas maneiras podemos dizer que um dos melhores restaurantes do Mt. washington vale, nh fechou para o bem ainda um bb, mas eles pararam de servir o público. muito triste. espero, eles vão reconsiderar depois de um breve respire. eu estou chocado com quantas boas críticas este restaurante recebeu. a classificação de 2 estrelas inclui a atmosfera romântica dentro da qual nos forneceu uma vista das montanhas brancas de nossa mesa de jantar. também inclui o serviço que foi atento e amigável. a comida, no entanto, era outra história completamente e isto em minha vista é o que separa... mais nós tivemos um jantar lá em cima da mesa de jantar é muito agradável, o jantar de inverno foi muito bonito e delicioso. a comida era muito agradável. no entanto, as pessoas são amigáveis. \n",
      "\n",
      "------------------------------------------------------------------------------------------------------------------------------\n",
      "Texto original:  the 1900 house is a gorgeous victorian home meticulously kept inside and out. no effort has been spared, no detail overlooked to assure the comfort and enjoyment of its guests. the beautifully served gourmet breakfasts are memorable, and charming hosts sandy and bill make you feel that the house is completely at your disposal. we had a lovely time. kate... moreawesome bb and so are the folks that run it, close to ocean, they provide towels, chairs. rooms are delightful and the breakfast is out of this world! don't tell anyone i told you, i want to keep this place a secret.my sister and i were looking for a place close to the point judith ferry going out to block island. i'm so glad we found the 1900 house. it was only about 6-10 minutes away and was located within walking distance of the narragansett beach. i liked that it was not a huge b b - only 4 rooms,... morejust like being at home, if your home is super clean and decorated in victorian style. the breakfasts are unbelievably delicious. sandy and bill are the perfect hosts and this place is easy walking distance to restaurants and shops and the beach.i was coming back to r.i. for my high school reunion and most of the local hotels were booked or crazy expensive. the 1900 house too was booked but called right away when they received a cancellation. upon arrival they showed me to my room and the rest of the house. not only was the house kept immaculately clean, the... moresandy and bill are wonderful hosts. sandy served the most delicious breakfast every morning. she even packed us some muffins for the ferry on the morning we were leaving before breakfast. it is a small bb with only 3 rooms. we stayed in the julie blu room, which was very comfortable. it is very convenient to the beach, shopping, ... moremy wife and i dont stay in bed and breakfasts very often, but i have to say the 1900 house stands with the very best we have ever experienced. the location of the 1900 house is probably the best available for any \n",
      ", \n",
      " Texto traduzido:  A casa de 1900 é uma linda casa vitoriosa meticulosamente mantida dentro e fora. nenhum esforço foi poupado, nenhum detalhe negligenciado para garantir o conforto e o gozo de seus hóspedes. os pequenos-almoços gourmet bem servidos são memoráveis, e encantadores anfitriões arenosos e faturados fazem você sentir que a casa está completamente à sua disposição. nós tivemos um tempo agradável. kate... mais agradável bb e assim são os povos que a executam, perto do oceano, eles fornecem toalhas, cadeiras. quartos são deliciosos e o pequeno-almoço está fora deste mundo! não diga a ninguém que eu lhe disse, eu quero manter este lugar um segredo. minha irmã e eu estava a pousar a casa de hóspedes muito chegada. a minha casa de hóspedes estava chegada a um lugar perto do ponto judith que estava a bloquear a ilha. eu estou tão feliz que encontramos a casa de 1900. ele estava apenas a 6-10 minutos de distância e estava localizado a uma curta distância da praia de narragansett. \n",
      "\n",
      "------------------------------------------------------------------------------------------------------------------------------\n",
      "Texto original:  we booked this hostel because it was the cheapest place in the center area in boston. when we got there there was a mixup with our reservation and they took care of it right away. excellent customer service at the front desk, very polite and helpful, answered all our questions. the room was a twin on the sixth floor, very... moregood place to stay for a few days. clean rooms, helping staff and clean bathrooms. the common area is nice and fun with a pool table and a small cinema room. its the best you can get in boston for this price. good place as well. might not fit a family but would be great if you are coming with... morebuena localizaci��nthe location is perfect for getting to all of the sections and access to subway stops. easy to figure out and navigate from berkley location. one must assume that you won't have all the luxury amenities as the courtyard marriott. taking this into consideration my negative points were was the quality of the beds, the pillow was the worst i... morei was traveling for work and there was an issue at our hotel so i scrambled for an alternative solution and found 40 berkeley. the lobby was clean and comfortable and the staff was friendly. i liked that bed linens and towels were included in the room price so i didn't have to pack these. the rooms are very bare... morewe arrived to boston on amtrak late (11pm) and hustled a car to the hostel. we were quickly checked in and put in a larger room as the 2 bed unit we reserved was unavailable. the room was sparse but provided the beds we needed and a mini fridge as a bonus. with no a/c, we used the provided fans... morespent 3 nights here in july and was pretty much as expected - basic accommodation (with wardrobe, double bed, no a/c, shared restrooms), decent communal facilities (big lounge, tv room, free wi-fi, elevators, water fountains, etc). the hotel/hostel is situated within 1-2 kilometres of all the things you might want to do see - shops, restaurants, local points of... morethe lo \n",
      ", \n",
      " Texto traduzido:  reservamos este albergue porque era o lugar mais barato na área central de Boston. quando chegamos lá houve uma confusão com a nossa reserva e eles cuidaram dele imediatamente. excelente serviço ao cliente na recepção, muito educado e útil, respondeu a todas as nossas perguntas. o quarto era um duplo no sexto andar, muito... mais bom lugar para ficar por alguns dias. quartos limpos, ajudando o pessoal e banheiros limpos. a área comum é agradável e divertida com uma mesa de bilhar e uma sala de cinema pequena. o seu melhor você pode obter em Boston por este preço. bom lugar também. pode não caber uma família e o meu quarto limpo era muito luxuoso, mas seria muito luxuoso se nós estivéssemos luxuosos como o lussuário. levando em consideração que os meus pontos negativos eram a qualidade das camas de metro. \n",
      "\n",
      "------------------------------------------------------------------------------------------------------------------------------\n",
      "Texto original:  breakfast was the best, and the best thing about the stay was the one and only host, great conversations at breakfast and advise on the city. very nice neighborhood. only reason that it did not get 5 stars is that the room has room for improvement, not any fault of the host. this is bed and breakfast, but not your honeymoon style bb, i would stay here again. room comfort could improve with a new air conditioning unit, other then that five stars. sharing the bathroom, never a problem, and coming in and out with you wanted never a problem. no need to rent a car, easy with public transportation.a nice bb really close to harvard square. a little confusing getting there if your walking (very little to no street signs) but ultimately a call to the bb saved me from wondering around. quiet neighborhood, bed was comfortable and bathroom was good considering that this is a very old building so keep that in mind. this is not the marriot but it is a nice place to rest after a long day on a plane. the innkeeper (byron) was very nice and helpful. i didn't stay for the breakfast opting for a bowl of cereal instead due to a busy schedule. overall a good bb experience and i would definitely come back if i'm ever in the area. thank you. a.g.a poor excuse for a bbthis bb couldn't have been more perfect. great location. clean rooms, comfortable beds, courteous staff, and breakfast cooked for you at whatever time you request. they even held our bags after we checked out so we could go to the natural history museum.we booked for 6 nights but left after 5. bb is old and shoddy. if you choose this place get some rose colored glasses like the ones used by other reviewers.having travelled for 24 hours in total from ha noi, viet nam to cambridge, i finally landed in the small but cosy bb late in the evening and was wellcomed by byron jordan. he gave me the opportunity to choose the room and advised me which room was less noisy. i immediately felt like i was at home with care... morea bed brea \n",
      ", \n",
      " Texto traduzido:  O café da manhã foi o melhor, e a melhor coisa sobre a estadia foi o primeiro e o único anfitrião, grandes conversas no pequeno-almoço e aconselhamento sobre a cidade. bairro muito agradável. única razão para que ele não tenha 5 estrelas é que o quarto tem espaço para melhorar, não qualquer culpa do anfitrião. este é bed and breakfast, mas não o seu estilo de lua de mel bb, eu ficaria aqui de novo. o conforto do quarto poderia melhorar com uma nova unidade de ar condicionado, outro que cinco estrelas. compartilhando o banheiro, nunca um problema, e entrando e saindo com você nunca queria um problema. nenhuma necessidade de alugar um carro, fácil com transporte público. uma boa noite que você poderia ter um lugar muito ocupado. uma boa sala de estar. \n",
      "\n",
      "------------------------------------------------------------------------------------------------------------------------------\n",
      "Texto original:  budget hotel offers standard amenities and low rates to road-weary travelers. in shortsince 1946, this phoenix, ariz.-based hotel chain has provided guests with comfortable accommodations. its bestrequests program offers 16 of the most frequently requested services and amenities, including complimentary in-room tea/coffeemakers, hair dryers, iron and ironing boards, free local calls less than 30 minutes and long-distance access. complimentary toiletries, like toothpaste, razors and sewing kits, are also available upon request. business travelers will enjoy the computer data ports in each room and photocopying services. \n",
      ", \n",
      " Texto traduzido:  hotel econômico oferece comodidades padrão e baixos preços para viajantes cansados de estrada. em curto prazo desde 1946, esta cadeia hoteleira baseada em phoenix, ariz. forneceu aos hóspedes acomodações confortáveis. seu programa de melhores solicitações oferece 16 dos serviços e comodidades mais frequentemente solicitados, incluindo chá/ cafeterias no quarto de cortesia, secadores de cabelo, ferro e tábuas de engomar, chamadas locais gratuitas de menos de 30 minutos e acesso de longa distância. produtos de higiene pessoal gratuitos, como pasta de dente, lâminas de barbear e kits de costura, também estão disponíveis a pedido. viajantes de negócios desfrutarão dos portos de dados de computador em cada quarto e serviços de fotocopiação. \n",
      "\n",
      "------------------------------------------------------------------------------------------------------------------------------\n",
      "Texto original:  when we arrived there were men smoking on both the balconies, the parking lot had a lot of trash in it, and the lobby reeked of weed. none of these were too bad though the receptionist was very nice, our room smelled clean and was very comfortable. we enjoyed the soft pillows and the free hbo. the most disappointing part... morethe staff was very friendly, knowledgeable, and accommodating during our stay. i have never stayed in a cleaner room. we have definitely found our place to stay when we return, we don't have to search any further!before i start i have stayed here before and had a much nicer experience. this stay was not the best i have seen from this location. this stay we had been told we were getting a jetted tub and had been looking forward to it. no jetted tub. television in the room had the language changed to spanish (thankfully i... morea good motel for the price. breakfast is a roll and coffee near the front door. bathroom is nicely tiled, and we had a jacuzzi bathtub. the furniture is heavy and sturdy. free wifi! convenient to all of oak harbor.finally a place to rave about on our washington trip!! the rooms are impeccable, the service (namely from kim) was beyond outstanding. and it was reasonable. it is centrally located to boot. restaurants, stores, all within walking or a short drive. we will most certainly be back!we just needed a place to sleep,so it was great to be surprised! it was cozy and comfortable. i felt like the staff really took pride in the hotel. our beds were comfortable, the room was very clean and we left feeling like what was just going to be a night on the road turned out to be quite pleasant.... morethis place is great!!! admittedly i would of never picked it if it weren't for all the positive reviews on tripadvisor. the exterior is shabby, but don't judge the book by it's cover!!! the rooms are a bit 'dated' but still spacious and wow, what excellent prices they have!! a word of warning: do not book online, you will be... mor \n",
      ", \n",
      " Texto traduzido:  Quando chegamos havia homens fumando em ambas as varandas, o estacionamento tinha um monte de lixo nele, e o lobby cheirava a erva. nenhum deles era muito ruim, embora a recepcionista fosse muito agradável, o nosso quarto cheirava limpo e era muito confortável. nós gostávamos dos travesseiros macios e do hbo gratuito. a parte mais decepcionante era o ivagôo do hotel. mais o pessoal era muito amigável, conhecedor e acomodante durante a nossa estadia. eu nunca fiquei em um quarto limpinho. nós definitivamente encontramos o nosso lugar para ficar quando voltamos, nós não temos que procurar mais! antes de começar eu ter ficado aqui o ivagômôo era muito agradável para ficar no centro do hotel e tivemos uma experiência muito mais agradável. esta esta estadia não foi a melhor que eu vi a partir deste lugar. esta esta estadia foi dita que nós estávamos recebendo uma banheira e um café perto da porta da frente. o banheiro é agradável. \n",
      "\n",
      "------------------------------------------------------------------------------------------------------------------------------\n",
      "Texto original:  wonderful little b&b nestled right in the middle of albuquerque. i highly suggest that you come here. the staff is just as friendly as possible and the rooms are very clean. its a home away from home. \n",
      ", \n",
      " Texto traduzido:  maravilhoso pequeno b& b niched bem no meio de albuquerque. eu sugiro altamente que você venha aqui. a equipe é o mais amigável possível e os quartos estão muito limpo. sua casa longe de casa. \n",
      "\n",
      "------------------------------------------------------------------------------------------------------------------------------\n",
      "Texto original:  one word. horrible. lol worst owner ever, completely ignorant \n",
      ", \n",
      " Texto traduzido:  uma palavra. horrível. lol pior dono de sempre, completamente ignorante \n",
      "\n",
      "------------------------------------------------------------------------------------------------------------------------------\n",
      "Texto original:  a little dated but totally comfortable. loved the deck out front overlooking the ocean. staff are lovely and very helpful to make your stay comfy. to reach the beach you go down a steep staircase but there are a few levels for you to pause and catch your breath. the beach below is a great place to stroll and look... moreour first stay at agate beach but won't be our last. we really enjoy newport and have been many times in the past but think it's nice to stay a little bit away from the hustle of town. the grounds are lovely, the view of the ocean is magnificent. our room was super comfy, love the lotions and soaps in... moreonce in a while you find a motel or hotel that is an attraction in itself- this is definitely the case with the agate beach motel. i stayed here in august 2015 while on a motorcycle tour down the oregon coast. the view is breathtaking- the property is on top of a steep hill/ cliff overlooking the beach itself and... moreexcellent location. very clean and comfortable 1 bedroom apartment. nice rooms with nice kitchen. excellent view. nice furnishing. very family oriented, kids loved it. easy access to one of the best beach we have ever been at. close to albertson and walmart.we thoroughly enjoyed our stay at the agate beach motel! we stayed in a duplex like building with two units sharing a carport so no adjoining walls. the buildings are older but very well maintained. our unit had a fully equipped kitchen with a full size refrigerator and an awesome old stove that worked perfectly. the kitchen and bathroom is... morewe found this lovely spot through tripadvisor reviews, we agree with the previous positive comments: very comfortable, squeaky clean, lovely view. nice kitchen.note: the 1 unit called a double queen provides 2 bedrooms 2 bathrooms, which was perfect for our group of 1 couple 1 single adult. very sturdy steps down to the beach. this was our... moreeverything you need with thoughtful personal touches. the hosts are charming and generous \n",
      ", \n",
      " Texto traduzido:  um pouco datado, mas totalmente confortável. adorou o nosso deck pessoal frente ao oceano. a equipe é muito bonita e muito útil para fazer sua estadia confortável. para chegar à praia você vai descer uma escadaria íngreme, mas há alguns níveis para você pausar e pegar o seu fôlego. a praia abaixo é um ótimo lugar para passear e olhar... mais a nossa primeira estadia na praia de ágata, mas não será a nossa última. nós realmente apreciamos o novo porto e foram muitas vezes no passado, mas achamos que é bom ficar um pouco longe da agitação da cidade. os jardins são lindos, a vista do oceano é magnífica. o nosso quarto foi muito confortável em uma bela estância de praia. nós amamos as loções e os sabões em... mais uma vez enquanto você encontra um motel ou hotel que é uma atração em si mesmo- este é definitivamente o caso com o motel de praia agata. \n",
      "\n",
      "------------------------------------------------------------------------------------------------------------------------------\n",
      "Texto original:  cheap-quality room in industrial area. no restaurants or other services nearby. hard bed, sloppy cleaning, few electrical outlets, lots of road noise. breakfast is stale donuts and usually empty orange-juice dispenser. bathroom has no towel bars or even hooks, and little space for toiletries. window is cracked and hard to open or close. tv is old, with pocked glass. on... morei arrived late evening and pulled into the hotel parking lot. i was greeted by two homeless men sitting in the parking lot. the check in was quick and i had asked about the men in the parking lot. i was assured they lived in the hotel. i was not aware when i made my reservation that the ambassador inn... morewe enjoyed our stay. we were looking for a cheaper room during the fiestea. we had a frige and microwave-you need to bring your own coffee pot and clock which we did. our room had only shower no tub but that worked for us. the staff was very helpful. they had coffee and rolls in the lobby at 6:00 am... moregreat people ! great staff ! great service . very clean ! nothing in our room was taken or missing when we left . they clean very well housekeeping people are so nice . the a/c is so awesome its sooo nice and cold top of all that there's a fan that helps circulate the air . mini fridge with... morewe stayed there for one night during august 2013. after more than 2 weeks on the road sleeping every night in a different low budget motel we came upon this little gem which was by far the best we have encountered so far and at a very reasonable rate as well. the room was spotlessly clean and everything worked as... more \n",
      ", \n",
      " Texto traduzido:  O quarto de qualidade barata na área industrial. nenhum restaurante ou outros serviços nas proximidades. cama dura, limpeza desleixada, poucas tomadas elétricas, muitos ruídos rodoviários. café da manhã é donuts estáveis e geralmente dispensador de suco laranja vazio. banheiro não tem barras de toalha ou mesmo ganchos, e pouco espaço para produtos de higiene pessoal. janela é quebrado e difícil de abrir ou fechar. tv é velho, com vidro pocked. on... morei chegou tarde da noite e puxou para o estacionamento do hotel. eu fui saudado por dois homens sem-teto sentado no estacionamento. o check-in foi rápido e eu tinha perguntado sobre os homens no estacionamento muito limpos em uma casa de banho. eu tinha certeza que eles viveram no hotel. eu não estava ciente quando eu fiz a minha reserva que o embaixador inn... mais nós gostávamos de nossa estadia. nós estávamos procurando por um quarto mais barato durante a festa. nós tínhamos um frige e microondas-você tinha mais necessidade de trazer com o seu próprio café e o relógio. \n",
      "\n",
      "------------------------------------------------------------------------------------------------------------------------------\n"
     ]
    }
   ],
   "source": [
    "for i in range(10):\n",
    "    print(\"Texto original: \", data2.reviews[i][0:2000], \"\\n, \\n Texto traduzido: \",textos[i][0],\"\\n\")\n",
    "    print(\"---\"*42)"
   ]
  }
 ],
 "metadata": {
  "kernelspec": {
   "display_name": "Python 3 (ipykernel)",
   "language": "python",
   "name": "python3"
  },
  "language_info": {
   "codemirror_mode": {
    "name": "ipython",
    "version": 3
   },
   "file_extension": ".py",
   "mimetype": "text/x-python",
   "name": "python",
   "nbconvert_exporter": "python",
   "pygments_lexer": "ipython3",
   "version": "3.10.2"
  }
 },
 "nbformat": 4,
 "nbformat_minor": 2
}
