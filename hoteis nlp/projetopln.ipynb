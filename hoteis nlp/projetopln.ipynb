{
 "cells": [
  {
   "cell_type": "markdown",
   "metadata": {},
   "source": [
    "\n",
    "# Tratando os dados\n"
   ]
  },
  {
   "cell_type": "code",
   "execution_count": 2,
   "metadata": {},
   "outputs": [],
   "source": [
    "#importando as bibliotecas necessarias\n",
    "import os\n",
    "import pandas as pd"
   ]
  },
  {
   "cell_type": "markdown",
   "metadata": {},
   "source": [
    "mostrando colunas para serem trabalhados"
   ]
  },
  {
   "cell_type": "code",
   "execution_count": 3,
   "metadata": {},
   "outputs": [],
   "source": [
    "# assumindo que o csv esteja na mesma pasta local do arquivo.\n",
    "df = pd.read_csv('hoteis.csv')"
   ]
  },
  {
   "cell_type": "code",
   "execution_count": 4,
   "metadata": {},
   "outputs": [
    {
     "name": "stdout",
     "output_type": "stream",
     "text": [
      "Index(['address', 'categories', 'city', 'country', 'latitude', 'longitude',\n",
      "       'name', 'postalCode', 'province', 'reviews.date', 'reviews.dateAdded',\n",
      "       'reviews.doRecommend', 'reviews.id', 'reviews.rating', 'reviews.text',\n",
      "       'reviews.title', 'reviews.userCity', 'reviews.username',\n",
      "       'reviews.userProvince'],\n",
      "      dtype='object')\n"
     ]
    }
   ],
   "source": [
    "# nome das colunas\n",
    "print(df.columns)"
   ]
  },
  {
   "cell_type": "code",
   "execution_count": 5,
   "metadata": {},
   "outputs": [
    {
     "data": {
      "text/plain": [
       "(35912, 19)"
      ]
     },
     "execution_count": 5,
     "metadata": {},
     "output_type": "execute_result"
    }
   ],
   "source": [
    "# numero de linhas e colunas\n",
    "df.shape"
   ]
  },
  {
   "cell_type": "code",
   "execution_count": 6,
   "metadata": {},
   "outputs": [
    {
     "data": {
      "text/html": [
       "<div>\n",
       "<style scoped>\n",
       "    .dataframe tbody tr th:only-of-type {\n",
       "        vertical-align: middle;\n",
       "    }\n",
       "\n",
       "    .dataframe tbody tr th {\n",
       "        vertical-align: top;\n",
       "    }\n",
       "\n",
       "    .dataframe thead th {\n",
       "        text-align: right;\n",
       "    }\n",
       "</style>\n",
       "<table border=\"1\" class=\"dataframe\">\n",
       "  <thead>\n",
       "    <tr style=\"text-align: right;\">\n",
       "      <th></th>\n",
       "      <th>address</th>\n",
       "      <th>categories</th>\n",
       "      <th>city</th>\n",
       "      <th>country</th>\n",
       "      <th>latitude</th>\n",
       "      <th>longitude</th>\n",
       "      <th>name</th>\n",
       "      <th>postalCode</th>\n",
       "      <th>province</th>\n",
       "      <th>reviews.date</th>\n",
       "      <th>reviews.dateAdded</th>\n",
       "      <th>reviews.doRecommend</th>\n",
       "      <th>reviews.id</th>\n",
       "      <th>reviews.rating</th>\n",
       "      <th>reviews.text</th>\n",
       "      <th>reviews.title</th>\n",
       "      <th>reviews.userCity</th>\n",
       "      <th>reviews.username</th>\n",
       "      <th>reviews.userProvince</th>\n",
       "    </tr>\n",
       "  </thead>\n",
       "  <tbody>\n",
       "    <tr>\n",
       "      <th>0</th>\n",
       "      <td>Riviera San Nicol 11/a</td>\n",
       "      <td>Hotels</td>\n",
       "      <td>Mableton</td>\n",
       "      <td>US</td>\n",
       "      <td>45.421611</td>\n",
       "      <td>12.376187</td>\n",
       "      <td>Hotel Russo Palace</td>\n",
       "      <td>30126</td>\n",
       "      <td>GA</td>\n",
       "      <td>2013-09-22T00:00:00Z</td>\n",
       "      <td>2016-10-24T00:00:25Z</td>\n",
       "      <td>NaN</td>\n",
       "      <td>NaN</td>\n",
       "      <td>4.0</td>\n",
       "      <td>Pleasant 10 min walk along the sea front to th...</td>\n",
       "      <td>Good location away from the crouds</td>\n",
       "      <td>NaN</td>\n",
       "      <td>Russ (kent)</td>\n",
       "      <td>NaN</td>\n",
       "    </tr>\n",
       "    <tr>\n",
       "      <th>1</th>\n",
       "      <td>Riviera San Nicol 11/a</td>\n",
       "      <td>Hotels</td>\n",
       "      <td>Mableton</td>\n",
       "      <td>US</td>\n",
       "      <td>45.421611</td>\n",
       "      <td>12.376187</td>\n",
       "      <td>Hotel Russo Palace</td>\n",
       "      <td>30126</td>\n",
       "      <td>GA</td>\n",
       "      <td>2015-04-03T00:00:00Z</td>\n",
       "      <td>2016-10-24T00:00:25Z</td>\n",
       "      <td>NaN</td>\n",
       "      <td>NaN</td>\n",
       "      <td>5.0</td>\n",
       "      <td>Really lovely hotel. Stayed on the very top fl...</td>\n",
       "      <td>Great hotel with Jacuzzi bath!</td>\n",
       "      <td>NaN</td>\n",
       "      <td>A Traveler</td>\n",
       "      <td>NaN</td>\n",
       "    </tr>\n",
       "    <tr>\n",
       "      <th>2</th>\n",
       "      <td>Riviera San Nicol 11/a</td>\n",
       "      <td>Hotels</td>\n",
       "      <td>Mableton</td>\n",
       "      <td>US</td>\n",
       "      <td>45.421611</td>\n",
       "      <td>12.376187</td>\n",
       "      <td>Hotel Russo Palace</td>\n",
       "      <td>30126</td>\n",
       "      <td>GA</td>\n",
       "      <td>2014-05-13T00:00:00Z</td>\n",
       "      <td>2016-10-24T00:00:25Z</td>\n",
       "      <td>NaN</td>\n",
       "      <td>NaN</td>\n",
       "      <td>5.0</td>\n",
       "      <td>Ett mycket bra hotell. Det som drog ner betyge...</td>\n",
       "      <td>Lugnt l��ge</td>\n",
       "      <td>NaN</td>\n",
       "      <td>Maud</td>\n",
       "      <td>NaN</td>\n",
       "    </tr>\n",
       "    <tr>\n",
       "      <th>3</th>\n",
       "      <td>Riviera San Nicol 11/a</td>\n",
       "      <td>Hotels</td>\n",
       "      <td>Mableton</td>\n",
       "      <td>US</td>\n",
       "      <td>45.421611</td>\n",
       "      <td>12.376187</td>\n",
       "      <td>Hotel Russo Palace</td>\n",
       "      <td>30126</td>\n",
       "      <td>GA</td>\n",
       "      <td>2013-10-27T00:00:00Z</td>\n",
       "      <td>2016-10-24T00:00:25Z</td>\n",
       "      <td>NaN</td>\n",
       "      <td>NaN</td>\n",
       "      <td>5.0</td>\n",
       "      <td>We stayed here for four nights in October. The...</td>\n",
       "      <td>Good location on the Lido.</td>\n",
       "      <td>NaN</td>\n",
       "      <td>Julie</td>\n",
       "      <td>NaN</td>\n",
       "    </tr>\n",
       "    <tr>\n",
       "      <th>4</th>\n",
       "      <td>Riviera San Nicol 11/a</td>\n",
       "      <td>Hotels</td>\n",
       "      <td>Mableton</td>\n",
       "      <td>US</td>\n",
       "      <td>45.421611</td>\n",
       "      <td>12.376187</td>\n",
       "      <td>Hotel Russo Palace</td>\n",
       "      <td>30126</td>\n",
       "      <td>GA</td>\n",
       "      <td>2015-03-05T00:00:00Z</td>\n",
       "      <td>2016-10-24T00:00:25Z</td>\n",
       "      <td>NaN</td>\n",
       "      <td>NaN</td>\n",
       "      <td>5.0</td>\n",
       "      <td>We stayed here for four nights in October. The...</td>\n",
       "      <td>������ ���������������</td>\n",
       "      <td>NaN</td>\n",
       "      <td>sungchul</td>\n",
       "      <td>NaN</td>\n",
       "    </tr>\n",
       "  </tbody>\n",
       "</table>\n",
       "</div>"
      ],
      "text/plain": [
       "                  address categories      city country   latitude  longitude  \\\n",
       "0  Riviera San Nicol 11/a     Hotels  Mableton      US  45.421611  12.376187   \n",
       "1  Riviera San Nicol 11/a     Hotels  Mableton      US  45.421611  12.376187   \n",
       "2  Riviera San Nicol 11/a     Hotels  Mableton      US  45.421611  12.376187   \n",
       "3  Riviera San Nicol 11/a     Hotels  Mableton      US  45.421611  12.376187   \n",
       "4  Riviera San Nicol 11/a     Hotels  Mableton      US  45.421611  12.376187   \n",
       "\n",
       "                 name postalCode province          reviews.date  \\\n",
       "0  Hotel Russo Palace      30126       GA  2013-09-22T00:00:00Z   \n",
       "1  Hotel Russo Palace      30126       GA  2015-04-03T00:00:00Z   \n",
       "2  Hotel Russo Palace      30126       GA  2014-05-13T00:00:00Z   \n",
       "3  Hotel Russo Palace      30126       GA  2013-10-27T00:00:00Z   \n",
       "4  Hotel Russo Palace      30126       GA  2015-03-05T00:00:00Z   \n",
       "\n",
       "      reviews.dateAdded  reviews.doRecommend  reviews.id  reviews.rating  \\\n",
       "0  2016-10-24T00:00:25Z                  NaN         NaN             4.0   \n",
       "1  2016-10-24T00:00:25Z                  NaN         NaN             5.0   \n",
       "2  2016-10-24T00:00:25Z                  NaN         NaN             5.0   \n",
       "3  2016-10-24T00:00:25Z                  NaN         NaN             5.0   \n",
       "4  2016-10-24T00:00:25Z                  NaN         NaN             5.0   \n",
       "\n",
       "                                        reviews.text  \\\n",
       "0  Pleasant 10 min walk along the sea front to th...   \n",
       "1  Really lovely hotel. Stayed on the very top fl...   \n",
       "2  Ett mycket bra hotell. Det som drog ner betyge...   \n",
       "3  We stayed here for four nights in October. The...   \n",
       "4  We stayed here for four nights in October. The...   \n",
       "\n",
       "                        reviews.title reviews.userCity reviews.username  \\\n",
       "0  Good location away from the crouds              NaN      Russ (kent)   \n",
       "1      Great hotel with Jacuzzi bath!              NaN       A Traveler   \n",
       "2                         Lugnt l��ge              NaN             Maud   \n",
       "3          Good location on the Lido.              NaN            Julie   \n",
       "4              ������ ���������������              NaN         sungchul   \n",
       "\n",
       "  reviews.userProvince  \n",
       "0                  NaN  \n",
       "1                  NaN  \n",
       "2                  NaN  \n",
       "3                  NaN  \n",
       "4                  NaN  "
      ]
     },
     "execution_count": 6,
     "metadata": {},
     "output_type": "execute_result"
    }
   ],
   "source": [
    "df.head()"
   ]
  },
  {
   "cell_type": "markdown",
   "metadata": {},
   "source": [
    "###  informações."
   ]
  },
  {
   "cell_type": "code",
   "execution_count": 7,
   "metadata": {},
   "outputs": [
    {
     "name": "stdout",
     "output_type": "stream",
     "text": [
      "<class 'pandas.core.frame.DataFrame'>\n",
      "RangeIndex: 35912 entries, 0 to 35911\n",
      "Data columns (total 19 columns):\n",
      " #   Column                Non-Null Count  Dtype  \n",
      "---  ------                --------------  -----  \n",
      " 0   address               35912 non-null  object \n",
      " 1   categories            35912 non-null  object \n",
      " 2   city                  35912 non-null  object \n",
      " 3   country               35912 non-null  object \n",
      " 4   latitude              35826 non-null  float64\n",
      " 5   longitude             35826 non-null  float64\n",
      " 6   name                  35912 non-null  object \n",
      " 7   postalCode            35857 non-null  object \n",
      " 8   province              35912 non-null  object \n",
      " 9   reviews.date          35653 non-null  object \n",
      " 10  reviews.dateAdded     35912 non-null  object \n",
      " 11  reviews.doRecommend   0 non-null      float64\n",
      " 12  reviews.id            0 non-null      float64\n",
      " 13  reviews.rating        35050 non-null  float64\n",
      " 14  reviews.text          35890 non-null  object \n",
      " 15  reviews.title         34290 non-null  object \n",
      " 16  reviews.userCity      16263 non-null  object \n",
      " 17  reviews.username      35869 non-null  object \n",
      " 18  reviews.userProvince  17518 non-null  object \n",
      "dtypes: float64(5), object(14)\n",
      "memory usage: 5.2+ MB\n"
     ]
    }
   ],
   "source": [
    "df.info()"
   ]
  },
  {
   "cell_type": "code",
   "execution_count": 8,
   "metadata": {},
   "outputs": [
    {
     "data": {
      "text/html": [
       "<div>\n",
       "<style scoped>\n",
       "    .dataframe tbody tr th:only-of-type {\n",
       "        vertical-align: middle;\n",
       "    }\n",
       "\n",
       "    .dataframe tbody tr th {\n",
       "        vertical-align: top;\n",
       "    }\n",
       "\n",
       "    .dataframe thead th {\n",
       "        text-align: right;\n",
       "    }\n",
       "</style>\n",
       "<table border=\"1\" class=\"dataframe\">\n",
       "  <thead>\n",
       "    <tr style=\"text-align: right;\">\n",
       "      <th></th>\n",
       "      <th>latitude</th>\n",
       "      <th>longitude</th>\n",
       "      <th>reviews.doRecommend</th>\n",
       "      <th>reviews.id</th>\n",
       "      <th>reviews.rating</th>\n",
       "    </tr>\n",
       "  </thead>\n",
       "  <tbody>\n",
       "    <tr>\n",
       "      <th>count</th>\n",
       "      <td>35826.000000</td>\n",
       "      <td>35826.000000</td>\n",
       "      <td>0.0</td>\n",
       "      <td>0.0</td>\n",
       "      <td>35050.000000</td>\n",
       "    </tr>\n",
       "    <tr>\n",
       "      <th>mean</th>\n",
       "      <td>37.285008</td>\n",
       "      <td>-85.725758</td>\n",
       "      <td>NaN</td>\n",
       "      <td>NaN</td>\n",
       "      <td>3.776431</td>\n",
       "    </tr>\n",
       "    <tr>\n",
       "      <th>std</th>\n",
       "      <td>6.996544</td>\n",
       "      <td>33.062263</td>\n",
       "      <td>NaN</td>\n",
       "      <td>NaN</td>\n",
       "      <td>1.416195</td>\n",
       "    </tr>\n",
       "    <tr>\n",
       "      <th>min</th>\n",
       "      <td>-25.436750</td>\n",
       "      <td>-166.559040</td>\n",
       "      <td>NaN</td>\n",
       "      <td>NaN</td>\n",
       "      <td>0.000000</td>\n",
       "    </tr>\n",
       "    <tr>\n",
       "      <th>25%</th>\n",
       "      <td>33.827340</td>\n",
       "      <td>-104.868200</td>\n",
       "      <td>NaN</td>\n",
       "      <td>NaN</td>\n",
       "      <td>3.000000</td>\n",
       "    </tr>\n",
       "    <tr>\n",
       "      <th>50%</th>\n",
       "      <td>37.936026</td>\n",
       "      <td>-86.822972</td>\n",
       "      <td>NaN</td>\n",
       "      <td>NaN</td>\n",
       "      <td>4.000000</td>\n",
       "    </tr>\n",
       "    <tr>\n",
       "      <th>75%</th>\n",
       "      <td>41.672491</td>\n",
       "      <td>-77.044550</td>\n",
       "      <td>NaN</td>\n",
       "      <td>NaN</td>\n",
       "      <td>5.000000</td>\n",
       "    </tr>\n",
       "    <tr>\n",
       "      <th>max</th>\n",
       "      <td>63.877674</td>\n",
       "      <td>115.164407</td>\n",
       "      <td>NaN</td>\n",
       "      <td>NaN</td>\n",
       "      <td>10.000000</td>\n",
       "    </tr>\n",
       "  </tbody>\n",
       "</table>\n",
       "</div>"
      ],
      "text/plain": [
       "           latitude     longitude  reviews.doRecommend  reviews.id  \\\n",
       "count  35826.000000  35826.000000                  0.0         0.0   \n",
       "mean      37.285008    -85.725758                  NaN         NaN   \n",
       "std        6.996544     33.062263                  NaN         NaN   \n",
       "min      -25.436750   -166.559040                  NaN         NaN   \n",
       "25%       33.827340   -104.868200                  NaN         NaN   \n",
       "50%       37.936026    -86.822972                  NaN         NaN   \n",
       "75%       41.672491    -77.044550                  NaN         NaN   \n",
       "max       63.877674    115.164407                  NaN         NaN   \n",
       "\n",
       "       reviews.rating  \n",
       "count    35050.000000  \n",
       "mean         3.776431  \n",
       "std          1.416195  \n",
       "min          0.000000  \n",
       "25%          3.000000  \n",
       "50%          4.000000  \n",
       "75%          5.000000  \n",
       "max         10.000000  "
      ]
     },
     "execution_count": 8,
     "metadata": {},
     "output_type": "execute_result"
    }
   ],
   "source": [
    "df.describe()"
   ]
  },
  {
   "cell_type": "code",
   "execution_count": 9,
   "metadata": {},
   "outputs": [
    {
     "data": {
      "text/plain": [
       "address                     0\n",
       "categories                  0\n",
       "city                        0\n",
       "country                     0\n",
       "latitude                   86\n",
       "longitude                  86\n",
       "name                        0\n",
       "postalCode                 55\n",
       "province                    0\n",
       "reviews.date              259\n",
       "reviews.dateAdded           0\n",
       "reviews.doRecommend     35912\n",
       "reviews.id              35912\n",
       "reviews.rating            862\n",
       "reviews.text               22\n",
       "reviews.title            1622\n",
       "reviews.userCity        19649\n",
       "reviews.username           43\n",
       "reviews.userProvince    18394\n",
       "dtype: int64"
      ]
     },
     "execution_count": 9,
     "metadata": {},
     "output_type": "execute_result"
    }
   ],
   "source": [
    "# colunas e quantidades de nulos\n",
    "df.isnull().sum()"
   ]
  },
  {
   "cell_type": "markdown",
   "metadata": {},
   "source": [
    "## Limpeza dos dados"
   ]
  },
  {
   "cell_type": "markdown",
   "metadata": {},
   "source": [
    "Nesse projeto não iremos utilizar todas as colunas, então retirando e deixando o apenas essencial."
   ]
  },
  {
   "cell_type": "code",
   "execution_count": 10,
   "metadata": {},
   "outputs": [],
   "source": [
    "trash = ['latitude', 'longitude', 'reviews.userProvince', 'reviews.userCity', 'reviews.doRecommend', 'reviews.id','province']\n",
    "df = df.drop(columns=trash)"
   ]
  },
  {
   "cell_type": "code",
   "execution_count": 11,
   "metadata": {},
   "outputs": [],
   "source": [
    "# excluindo dados duplicados se existir.\n",
    "df = df.drop_duplicates()"
   ]
  },
  {
   "cell_type": "code",
   "execution_count": 12,
   "metadata": {},
   "outputs": [
    {
     "name": "stdout",
     "output_type": "stream",
     "text": [
      "<class 'pandas.core.frame.DataFrame'>\n",
      "Int64Index: 35905 entries, 0 to 35911\n",
      "Data columns (total 12 columns):\n",
      " #   Column             Non-Null Count  Dtype  \n",
      "---  ------             --------------  -----  \n",
      " 0   address            35905 non-null  object \n",
      " 1   categories         35905 non-null  object \n",
      " 2   city               35905 non-null  object \n",
      " 3   country            35905 non-null  object \n",
      " 4   name               35905 non-null  object \n",
      " 5   postalCode         35850 non-null  object \n",
      " 6   reviews.date       35646 non-null  object \n",
      " 7   reviews.dateAdded  35905 non-null  object \n",
      " 8   reviews.rating     35043 non-null  float64\n",
      " 9   reviews.text       35883 non-null  object \n",
      " 10  reviews.title      34283 non-null  object \n",
      " 11  reviews.username   35862 non-null  object \n",
      "dtypes: float64(1), object(11)\n",
      "memory usage: 3.6+ MB\n"
     ]
    }
   ],
   "source": [
    "df.info()"
   ]
  },
  {
   "cell_type": "code",
   "execution_count": 13,
   "metadata": {},
   "outputs": [],
   "source": [
    "# mudando de object para datetime\n",
    "df['reviews.date'] = pd.to_datetime(df['reviews.date'], errors='coerce')\n",
    "df['reviews.dateAdded'] = pd.to_datetime(df['reviews.dateAdded'], errors='coerce')"
   ]
  },
  {
   "cell_type": "code",
   "execution_count": 14,
   "metadata": {},
   "outputs": [
    {
     "name": "stdout",
     "output_type": "stream",
     "text": [
      "<class 'pandas.core.frame.DataFrame'>\n",
      "Int64Index: 35905 entries, 0 to 35911\n",
      "Data columns (total 12 columns):\n",
      " #   Column             Non-Null Count  Dtype              \n",
      "---  ------             --------------  -----              \n",
      " 0   address            35905 non-null  object             \n",
      " 1   categories         35905 non-null  object             \n",
      " 2   city               35905 non-null  object             \n",
      " 3   country            35905 non-null  object             \n",
      " 4   name               35905 non-null  object             \n",
      " 5   postalCode         35850 non-null  object             \n",
      " 6   reviews.date       35646 non-null  datetime64[ns, UTC]\n",
      " 7   reviews.dateAdded  35905 non-null  datetime64[ns, UTC]\n",
      " 8   reviews.rating     35043 non-null  float64            \n",
      " 9   reviews.text       35883 non-null  object             \n",
      " 10  reviews.title      34283 non-null  object             \n",
      " 11  reviews.username   35862 non-null  object             \n",
      "dtypes: datetime64[ns, UTC](2), float64(1), object(9)\n",
      "memory usage: 3.6+ MB\n"
     ]
    }
   ],
   "source": [
    "df.info()"
   ]
  },
  {
   "cell_type": "code",
   "execution_count": 15,
   "metadata": {},
   "outputs": [
    {
     "data": {
      "text/plain": [
       "address                 0\n",
       "categories              0\n",
       "city                    0\n",
       "country                 0\n",
       "name                    0\n",
       "postalCode             55\n",
       "reviews.date          259\n",
       "reviews.dateAdded       0\n",
       "reviews.rating        862\n",
       "reviews.text           22\n",
       "reviews.title        1622\n",
       "reviews.username       43\n",
       "dtype: int64"
      ]
     },
     "execution_count": 15,
     "metadata": {},
     "output_type": "execute_result"
    }
   ],
   "source": [
    "df.isnull().sum()"
   ]
  },
  {
   "cell_type": "code",
   "execution_count": 16,
   "metadata": {},
   "outputs": [],
   "source": [
    "# Preencher valores numéricos ausentes com a média\n",
    "df['reviews.rating'].fillna(df['reviews.rating'].mean(), inplace=True)\n",
    "\n",
    "# Preencher valores categóricos ausentes com o valor mais comum\n",
    "df['postalCode'].fillna(df['postalCode'].mode()[0], inplace=True)\n",
    "\n",
    "# Remover linhas com dados ausentes\n",
    "df.dropna(subset=['reviews.date', 'reviews.text'], inplace=True)"
   ]
  },
  {
   "cell_type": "code",
   "execution_count": 17,
   "metadata": {},
   "outputs": [
    {
     "data": {
      "text/plain": [
       "address                 0\n",
       "categories              0\n",
       "city                    0\n",
       "country                 0\n",
       "name                    0\n",
       "postalCode              0\n",
       "reviews.date            0\n",
       "reviews.dateAdded       0\n",
       "reviews.rating          0\n",
       "reviews.text            0\n",
       "reviews.title        1383\n",
       "reviews.username       43\n",
       "dtype: int64"
      ]
     },
     "execution_count": 17,
     "metadata": {},
     "output_type": "execute_result"
    }
   ],
   "source": [
    "df.isnull().sum()"
   ]
  },
  {
   "cell_type": "code",
   "execution_count": 18,
   "metadata": {},
   "outputs": [],
   "source": [
    "# usuarios sem nome recebera Anonimo, para não termos valores nulo no nosso data\n",
    "df['reviews.username'].fillna('Anônimo', inplace=True)\n",
    "df['reviews.title'].fillna('No Title', inplace=True)"
   ]
  },
  {
   "cell_type": "code",
   "execution_count": 19,
   "metadata": {},
   "outputs": [
    {
     "data": {
      "text/plain": [
       "address              0\n",
       "categories           0\n",
       "city                 0\n",
       "country              0\n",
       "name                 0\n",
       "postalCode           0\n",
       "reviews.date         0\n",
       "reviews.dateAdded    0\n",
       "reviews.rating       0\n",
       "reviews.text         0\n",
       "reviews.title        0\n",
       "reviews.username     0\n",
       "dtype: int64"
      ]
     },
     "execution_count": 19,
     "metadata": {},
     "output_type": "execute_result"
    }
   ],
   "source": [
    "df.isnull().sum()"
   ]
  },
  {
   "cell_type": "code",
   "execution_count": 20,
   "metadata": {},
   "outputs": [],
   "source": [
    "df['reviews.text'] = df['reviews.text'].str.lower()\n",
    "df['reviews.title'] = df['reviews.title'].str.lower()"
   ]
  },
  {
   "cell_type": "code",
   "execution_count": 21,
   "metadata": {},
   "outputs": [
    {
     "data": {
      "text/html": [
       "<div>\n",
       "<style scoped>\n",
       "    .dataframe tbody tr th:only-of-type {\n",
       "        vertical-align: middle;\n",
       "    }\n",
       "\n",
       "    .dataframe tbody tr th {\n",
       "        vertical-align: top;\n",
       "    }\n",
       "\n",
       "    .dataframe thead th {\n",
       "        text-align: right;\n",
       "    }\n",
       "</style>\n",
       "<table border=\"1\" class=\"dataframe\">\n",
       "  <thead>\n",
       "    <tr style=\"text-align: right;\">\n",
       "      <th></th>\n",
       "      <th>address</th>\n",
       "      <th>categories</th>\n",
       "      <th>city</th>\n",
       "      <th>country</th>\n",
       "      <th>name</th>\n",
       "      <th>postalCode</th>\n",
       "      <th>reviews.date</th>\n",
       "      <th>reviews.dateAdded</th>\n",
       "      <th>reviews.rating</th>\n",
       "      <th>reviews.text</th>\n",
       "      <th>reviews.title</th>\n",
       "      <th>reviews.username</th>\n",
       "    </tr>\n",
       "  </thead>\n",
       "  <tbody>\n",
       "    <tr>\n",
       "      <th>0</th>\n",
       "      <td>Riviera San Nicol 11/a</td>\n",
       "      <td>Hotels</td>\n",
       "      <td>Mableton</td>\n",
       "      <td>US</td>\n",
       "      <td>Hotel Russo Palace</td>\n",
       "      <td>30126</td>\n",
       "      <td>2013-09-22 00:00:00+00:00</td>\n",
       "      <td>2016-10-24 00:00:25+00:00</td>\n",
       "      <td>4.0</td>\n",
       "      <td>pleasant 10 min walk along the sea front to th...</td>\n",
       "      <td>good location away from the crouds</td>\n",
       "      <td>Russ (kent)</td>\n",
       "    </tr>\n",
       "    <tr>\n",
       "      <th>1</th>\n",
       "      <td>Riviera San Nicol 11/a</td>\n",
       "      <td>Hotels</td>\n",
       "      <td>Mableton</td>\n",
       "      <td>US</td>\n",
       "      <td>Hotel Russo Palace</td>\n",
       "      <td>30126</td>\n",
       "      <td>2015-04-03 00:00:00+00:00</td>\n",
       "      <td>2016-10-24 00:00:25+00:00</td>\n",
       "      <td>5.0</td>\n",
       "      <td>really lovely hotel. stayed on the very top fl...</td>\n",
       "      <td>great hotel with jacuzzi bath!</td>\n",
       "      <td>A Traveler</td>\n",
       "    </tr>\n",
       "    <tr>\n",
       "      <th>2</th>\n",
       "      <td>Riviera San Nicol 11/a</td>\n",
       "      <td>Hotels</td>\n",
       "      <td>Mableton</td>\n",
       "      <td>US</td>\n",
       "      <td>Hotel Russo Palace</td>\n",
       "      <td>30126</td>\n",
       "      <td>2014-05-13 00:00:00+00:00</td>\n",
       "      <td>2016-10-24 00:00:25+00:00</td>\n",
       "      <td>5.0</td>\n",
       "      <td>ett mycket bra hotell. det som drog ner betyge...</td>\n",
       "      <td>lugnt l��ge</td>\n",
       "      <td>Maud</td>\n",
       "    </tr>\n",
       "    <tr>\n",
       "      <th>3</th>\n",
       "      <td>Riviera San Nicol 11/a</td>\n",
       "      <td>Hotels</td>\n",
       "      <td>Mableton</td>\n",
       "      <td>US</td>\n",
       "      <td>Hotel Russo Palace</td>\n",
       "      <td>30126</td>\n",
       "      <td>2013-10-27 00:00:00+00:00</td>\n",
       "      <td>2016-10-24 00:00:25+00:00</td>\n",
       "      <td>5.0</td>\n",
       "      <td>we stayed here for four nights in october. the...</td>\n",
       "      <td>good location on the lido.</td>\n",
       "      <td>Julie</td>\n",
       "    </tr>\n",
       "    <tr>\n",
       "      <th>4</th>\n",
       "      <td>Riviera San Nicol 11/a</td>\n",
       "      <td>Hotels</td>\n",
       "      <td>Mableton</td>\n",
       "      <td>US</td>\n",
       "      <td>Hotel Russo Palace</td>\n",
       "      <td>30126</td>\n",
       "      <td>2015-03-05 00:00:00+00:00</td>\n",
       "      <td>2016-10-24 00:00:25+00:00</td>\n",
       "      <td>5.0</td>\n",
       "      <td>we stayed here for four nights in october. the...</td>\n",
       "      <td>������ ���������������</td>\n",
       "      <td>sungchul</td>\n",
       "    </tr>\n",
       "    <tr>\n",
       "      <th>...</th>\n",
       "      <td>...</td>\n",
       "      <td>...</td>\n",
       "      <td>...</td>\n",
       "      <td>...</td>\n",
       "      <td>...</td>\n",
       "      <td>...</td>\n",
       "      <td>...</td>\n",
       "      <td>...</td>\n",
       "      <td>...</td>\n",
       "      <td>...</td>\n",
       "      <td>...</td>\n",
       "      <td>...</td>\n",
       "    </tr>\n",
       "    <tr>\n",
       "      <th>35905</th>\n",
       "      <td>1088 Powdermill Rd</td>\n",
       "      <td>Cabins,Resorts &amp; Vacation Cottages,Wedding Cha...</td>\n",
       "      <td>Gatlinburg</td>\n",
       "      <td>US</td>\n",
       "      <td>Elk Springs Resort</td>\n",
       "      <td>37738</td>\n",
       "      <td>2016-07-06 00:00:00+00:00</td>\n",
       "      <td>2016-06-23 16:50:58+00:00</td>\n",
       "      <td>5.0</td>\n",
       "      <td>we truly enjoyed staying at the elk springs re...</td>\n",
       "      <td>we loved it!</td>\n",
       "      <td>randolphtiffany</td>\n",
       "    </tr>\n",
       "    <tr>\n",
       "      <th>35906</th>\n",
       "      <td>1088 Powdermill Rd</td>\n",
       "      <td>Cabins,Resorts &amp; Vacation Cottages,Wedding Cha...</td>\n",
       "      <td>Gatlinburg</td>\n",
       "      <td>US</td>\n",
       "      <td>Elk Springs Resort</td>\n",
       "      <td>37738</td>\n",
       "      <td>2016-05-02 00:00:00+00:00</td>\n",
       "      <td>2016-06-23 16:50:58+00:00</td>\n",
       "      <td>5.0</td>\n",
       "      <td>we were here for a 2nd time the last weekend o...</td>\n",
       "      <td>amazing time (both times!!)</td>\n",
       "      <td>Sabrina P</td>\n",
       "    </tr>\n",
       "    <tr>\n",
       "      <th>35907</th>\n",
       "      <td>1088 Powdermill Rd</td>\n",
       "      <td>Cabins,Resorts &amp; Vacation Cottages,Wedding Cha...</td>\n",
       "      <td>Gatlinburg</td>\n",
       "      <td>US</td>\n",
       "      <td>Elk Springs Resort</td>\n",
       "      <td>37738</td>\n",
       "      <td>2012-03-20 00:00:00+00:00</td>\n",
       "      <td>2016-06-23 16:50:58+00:00</td>\n",
       "      <td>5.0</td>\n",
       "      <td>best of the best!!!! my family and i stayed in...</td>\n",
       "      <td>amazing time (both times!!)</td>\n",
       "      <td>Chelsa K.</td>\n",
       "    </tr>\n",
       "    <tr>\n",
       "      <th>35908</th>\n",
       "      <td>1088 Powdermill Rd</td>\n",
       "      <td>Cabins,Resorts &amp; Vacation Cottages,Wedding Cha...</td>\n",
       "      <td>Gatlinburg</td>\n",
       "      <td>US</td>\n",
       "      <td>Elk Springs Resort</td>\n",
       "      <td>37738</td>\n",
       "      <td>2012-03-12 00:00:00+00:00</td>\n",
       "      <td>2016-06-23 16:50:58+00:00</td>\n",
       "      <td>5.0</td>\n",
       "      <td>amazing vacation in beautiful cabin we stayed ...</td>\n",
       "      <td>amazing time (both times!!)</td>\n",
       "      <td>Heather D.</td>\n",
       "    </tr>\n",
       "    <tr>\n",
       "      <th>35909</th>\n",
       "      <td>1088 Powdermill Rd</td>\n",
       "      <td>Cabins,Resorts &amp; Vacation Cottages,Wedding Cha...</td>\n",
       "      <td>Gatlinburg</td>\n",
       "      <td>US</td>\n",
       "      <td>Elk Springs Resort</td>\n",
       "      <td>37738</td>\n",
       "      <td>2015-11-03 00:00:00+00:00</td>\n",
       "      <td>2016-06-23 16:50:58+00:00</td>\n",
       "      <td>5.0</td>\n",
       "      <td>my husband and i stayed at tree tops which is ...</td>\n",
       "      <td>amazing time (both times!!)</td>\n",
       "      <td>Carol W.</td>\n",
       "    </tr>\n",
       "  </tbody>\n",
       "</table>\n",
       "<p>35626 rows × 12 columns</p>\n",
       "</div>"
      ],
      "text/plain": [
       "                      address  \\\n",
       "0      Riviera San Nicol 11/a   \n",
       "1      Riviera San Nicol 11/a   \n",
       "2      Riviera San Nicol 11/a   \n",
       "3      Riviera San Nicol 11/a   \n",
       "4      Riviera San Nicol 11/a   \n",
       "...                       ...   \n",
       "35905      1088 Powdermill Rd   \n",
       "35906      1088 Powdermill Rd   \n",
       "35907      1088 Powdermill Rd   \n",
       "35908      1088 Powdermill Rd   \n",
       "35909      1088 Powdermill Rd   \n",
       "\n",
       "                                              categories        city country  \\\n",
       "0                                                 Hotels    Mableton      US   \n",
       "1                                                 Hotels    Mableton      US   \n",
       "2                                                 Hotels    Mableton      US   \n",
       "3                                                 Hotels    Mableton      US   \n",
       "4                                                 Hotels    Mableton      US   \n",
       "...                                                  ...         ...     ...   \n",
       "35905  Cabins,Resorts & Vacation Cottages,Wedding Cha...  Gatlinburg      US   \n",
       "35906  Cabins,Resorts & Vacation Cottages,Wedding Cha...  Gatlinburg      US   \n",
       "35907  Cabins,Resorts & Vacation Cottages,Wedding Cha...  Gatlinburg      US   \n",
       "35908  Cabins,Resorts & Vacation Cottages,Wedding Cha...  Gatlinburg      US   \n",
       "35909  Cabins,Resorts & Vacation Cottages,Wedding Cha...  Gatlinburg      US   \n",
       "\n",
       "                     name postalCode              reviews.date  \\\n",
       "0      Hotel Russo Palace      30126 2013-09-22 00:00:00+00:00   \n",
       "1      Hotel Russo Palace      30126 2015-04-03 00:00:00+00:00   \n",
       "2      Hotel Russo Palace      30126 2014-05-13 00:00:00+00:00   \n",
       "3      Hotel Russo Palace      30126 2013-10-27 00:00:00+00:00   \n",
       "4      Hotel Russo Palace      30126 2015-03-05 00:00:00+00:00   \n",
       "...                   ...        ...                       ...   \n",
       "35905  Elk Springs Resort      37738 2016-07-06 00:00:00+00:00   \n",
       "35906  Elk Springs Resort      37738 2016-05-02 00:00:00+00:00   \n",
       "35907  Elk Springs Resort      37738 2012-03-20 00:00:00+00:00   \n",
       "35908  Elk Springs Resort      37738 2012-03-12 00:00:00+00:00   \n",
       "35909  Elk Springs Resort      37738 2015-11-03 00:00:00+00:00   \n",
       "\n",
       "              reviews.dateAdded  reviews.rating  \\\n",
       "0     2016-10-24 00:00:25+00:00             4.0   \n",
       "1     2016-10-24 00:00:25+00:00             5.0   \n",
       "2     2016-10-24 00:00:25+00:00             5.0   \n",
       "3     2016-10-24 00:00:25+00:00             5.0   \n",
       "4     2016-10-24 00:00:25+00:00             5.0   \n",
       "...                         ...             ...   \n",
       "35905 2016-06-23 16:50:58+00:00             5.0   \n",
       "35906 2016-06-23 16:50:58+00:00             5.0   \n",
       "35907 2016-06-23 16:50:58+00:00             5.0   \n",
       "35908 2016-06-23 16:50:58+00:00             5.0   \n",
       "35909 2016-06-23 16:50:58+00:00             5.0   \n",
       "\n",
       "                                            reviews.text  \\\n",
       "0      pleasant 10 min walk along the sea front to th...   \n",
       "1      really lovely hotel. stayed on the very top fl...   \n",
       "2      ett mycket bra hotell. det som drog ner betyge...   \n",
       "3      we stayed here for four nights in october. the...   \n",
       "4      we stayed here for four nights in october. the...   \n",
       "...                                                  ...   \n",
       "35905  we truly enjoyed staying at the elk springs re...   \n",
       "35906  we were here for a 2nd time the last weekend o...   \n",
       "35907  best of the best!!!! my family and i stayed in...   \n",
       "35908  amazing vacation in beautiful cabin we stayed ...   \n",
       "35909  my husband and i stayed at tree tops which is ...   \n",
       "\n",
       "                            reviews.title reviews.username  \n",
       "0      good location away from the crouds      Russ (kent)  \n",
       "1          great hotel with jacuzzi bath!       A Traveler  \n",
       "2                             lugnt l��ge             Maud  \n",
       "3              good location on the lido.            Julie  \n",
       "4                  ������ ���������������         sungchul  \n",
       "...                                   ...              ...  \n",
       "35905                        we loved it!  randolphtiffany  \n",
       "35906         amazing time (both times!!)        Sabrina P  \n",
       "35907         amazing time (both times!!)        Chelsa K.  \n",
       "35908         amazing time (both times!!)       Heather D.  \n",
       "35909         amazing time (both times!!)         Carol W.  \n",
       "\n",
       "[35626 rows x 12 columns]"
      ]
     },
     "execution_count": 21,
     "metadata": {},
     "output_type": "execute_result"
    }
   ],
   "source": [
    "df"
   ]
  },
  {
   "cell_type": "markdown",
   "metadata": {},
   "source": [
    "## Tradutor dos reviews"
   ]
  },
  {
   "cell_type": "code",
   "execution_count": 54,
   "metadata": {},
   "outputs": [],
   "source": [
    "review_text = []\n",
    "i = 0\n",
    "while i < 100:\n",
    "    if i == 56:\n",
    "        i = i + 5;\n",
    "    if i == 97:\n",
    "        i = i + 2\n",
    "    if df['reviews.text'][i]:\n",
    "        review_text.append(df['reviews.text'][i].lower())\n",
    "        i = i + 1\n",
    "        "
   ]
  },
  {
   "cell_type": "code",
   "execution_count": 55,
   "metadata": {},
   "outputs": [],
   "source": [
    "j = 0\n",
    "review_text_translate = []\n",
    "while j < len(review_text):\n",
    "    if j == 56:\n",
    "        j = j + 5;\n",
    "    if j == 97:\n",
    "        j = j + 2\n",
    "    if review_text[j]:\n",
    "        txt = \">>pt_BR<<\" + review_text[j]\n",
    "        review_text_translate.append(txt)\n",
    "        j = j + 1\n"
   ]
  },
  {
   "cell_type": "code",
   "execution_count": 56,
   "metadata": {},
   "outputs": [
    {
     "name": "stderr",
     "output_type": "stream",
     "text": [
      "C:\\Users\\dhull\\AppData\\Local\\Programs\\Python\\Python310\\lib\\site-packages\\transformers\\models\\marian\\tokenization_marian.py:194: UserWarning: Recommended: pip install sacremoses.\n",
      "  warnings.warn(\"Recommended: pip install sacremoses.\")\n"
     ]
    }
   ],
   "source": [
    "from transformers import AutoTokenizer, AutoModelForSeq2SeqLM\n",
    "model = AutoModelForSeq2SeqLM.from_pretrained(\"Helsinki-NLP/opus-mt-en-ROMANCE\")\n",
    "tokenizer = AutoTokenizer.from_pretrained(\"Helsinki-NLP/opus-mt-en-ROMANCE\")"
   ]
  },
  {
   "cell_type": "code",
   "execution_count": 61,
   "metadata": {},
   "outputs": [],
   "source": [
    "\n",
    "batch_input_str = (review_text_translate[0:20])\n",
    "\n",
    "encoded = tokenizer(batch_input_str, return_tensors = 'pt', padding=True)\n",
    "\n",
    "translated = model.generate(**encoded)\n",
    "\n",
    "textos = tokenizer.batch_decode(translated, skip_special_tokens=True)"
   ]
  },
  {
   "cell_type": "markdown",
   "metadata": {},
   "source": [
    "## Traduzindo os 20 primeiros reviews"
   ]
  },
  {
   "cell_type": "code",
   "execution_count": 69,
   "metadata": {},
   "outputs": [
    {
     "name": "stdout",
     "output_type": "stream",
     "text": [
      "Texto original:  pleasant 10 min walk along the sea front to the water bus. restaurants etc. hotel was comfortable breakfast was good - quite a variety. room aircon didn't work very well. take mosquito repelant! \n",
      "\n",
      "Texto traduzido:  agradável 10 minutos de caminhada ao longo da frente do mar para o ônibus aquático. restaurantes etc. hotel foi café da manhã confortável foi bom - bastante uma variedade. quarto arcon não funcionou muito bem. tome mosquito repelente! \n",
      "\n",
      "------------------------------------------------------------------------------------------------------------------------------ \n",
      "\n",
      "Texto original:  really lovely hotel. stayed on the very top floor and were surprised by a jacuzzi bath we didn't know we were getting! staff were friendly and helpful and the included breakfast was great! great location and great value for money. didn't want to leave! \n",
      "\n",
      "Texto traduzido:  hotel muito adorável. ficou no último andar e ficou surpreso com um banho de jacuzzi que não sabíamos que estávamos recebendo! funcionários foram amigáveis e úteis e o café da manhã incluído foi ótimo! excelente localização e grande custo-benefício. não quis sair! \n",
      "\n",
      "------------------------------------------------------------------------------------------------------------------------------ \n",
      "\n",
      "Texto original:  we stayed here for four nights in october. the hotel staff were welcoming, friendly and helpful. assisted in booking tickets for the opera. the rooms were clean and comfortable- good shower, light and airy rooms with windows you could open wide. beds were comfortable. plenty of choice for breakfast.spa at hotel nearby which we used while we were there. \n",
      "\n",
      "Texto traduzido:  nós ficamos aqui por quatro noites em outubro. o pessoal do hotel foi acolhedor, amigável e útil. assistido na reserva de bilhetes para a ópera. os quartos estavam limpo e confortável- bom chuveiro, quartos claros e aéreos com janelas que você poderia abrir ampla. camas eram confortáveis. muita escolha para o pequeno- almoço. spa no hotel nas proximidades que nós usamos enquanto estávamos lá. \n",
      "\n",
      "------------------------------------------------------------------------------------------------------------------------------ \n",
      "\n",
      "Texto original:  we stayed here for four nights in october. the hotel staff were welcoming, friendly and helpful. assisted in booking tickets for the opera. the rooms were clean and comfortable- good shower, light and airy rooms with windows you could open wide. beds were comfortable. plenty of choice for breakfast.spa at hotel nearby which we used while we were there. \n",
      "\n",
      "Texto traduzido:  nós ficamos aqui por quatro noites em outubro. o pessoal do hotel foi acolhedor, amigável e útil. assistido na reserva de bilhetes para a ópera. os quartos estavam limpo e confortável- bom chuveiro, quartos claros e aéreos com janelas que você poderia abrir ampla. camas eram confortáveis. muita escolha para o pequeno- almoço. spa no hotel nas proximidades que nós usamos enquanto estávamos lá. \n",
      "\n",
      "------------------------------------------------------------------------------------------------------------------------------ \n",
      "\n",
      "Texto original:  we loved staying on the island of lido! you need to take a water is from venice to get there. from the train station, a boat ride takes 45 minutes but has beautiful views along the way. hotel is an easy walk from the boat dock. the room was very clean and the breakfast was plentiful. we would definitely recommend this hotel! \n",
      "\n",
      "Texto traduzido:  Nós amamos ficar na ilha de lido! você precisa tomar uma água é de Veneza para chegar lá. da estação de trem, um passeio de barco leva 45 minutos, mas tem belas vistas ao longo do caminho. hotel é um passeio fácil da doca do barco. o quarto estava muito limpo e o pequeno-almoço foi abundante. nós definitivamente recomendaríamos este hotel! \n",
      "\n",
      "------------------------------------------------------------------------------------------------------------------------------ \n",
      "\n",
      "Texto original:  lovely view out onto the lagoon. excellent view. staff were welcoming and helpful. \n",
      "\n",
      "Texto traduzido:  vista adorável para a laguna. vista excelente. a equipe foi acolhedora e útil. \n",
      "\n",
      "------------------------------------------------------------------------------------------------------------------------------ \n",
      "\n",
      "Texto original:  it was ok hotel is nice from in and out but room was small we paid for double bed bat they atteched 2 single bed \n",
      "\n",
      "Texto traduzido:  era ok hotel é bom de dentro e fora, mas quarto era pequeno nós pagamos por taco de cama de casal eles ateched 2 cama de solteiro \n",
      "\n",
      "------------------------------------------------------------------------------------------------------------------------------ \n",
      "\n",
      "Texto original:  bardzo sympatyczna obsuga, klimat hotelu. wietna azienka, widok na zatok. bardzo dobry stosunek cena/jakosc. polecam! \n",
      "\n",
      "Texto traduzido:  bardzo simpatityczna obsuga, hotelu klimat. wietna azienka, widok na zatok. bardzo dobry stosunek cena/jakosc. polecam! \n",
      "\n",
      "------------------------------------------------------------------------------------------------------------------------------ \n",
      "\n",
      "Texto original:  bra o lugnt lge. stor terrass. nra till den hrliga lidostranden.bara en tv-kanal. bra frukost. litet opraktiskt badrum.trevlig och kunnig personal. \n",
      "\n",
      "Texto traduzido:  o sutiã o lugnt lge. stor terrass. nra till den hrliga lidostranden.bara en tv- kanal. sutiã frukost. litet opraktiskt badrum.trevlig och kunnig personal. \n",
      "\n",
      "------------------------------------------------------------------------------------------------------------------------------ \n",
      "\n",
      "Texto original:  the hotel staff was very friendly and helpful. the room was clean and comfortable. my wife and i had a room with a terrace over looking the water...it was a great view! i will look to stay at this hotel my next time in venice...very pleased. \n",
      "\n",
      "Texto traduzido:  a equipe do hotel foi muito amigável e útil. o quarto estava limpo e confortável. minha esposa e eu tínhamos um quarto com um terraço sobre a água... foi uma ótima vista! eu vou olhar para ficar neste hotel minha próxima vez em Veneza... muito satisfeito. \n",
      "\n",
      "------------------------------------------------------------------------------------------------------------------------------ \n",
      "\n",
      "Texto original:  nice hotel , with very friendly staff and helpful - great choice for breakfast , something for everyone. \n",
      "\n",
      "Texto traduzido:  agradável hotel, com pessoal muito amigável e útil - grande escolha para o café da manhã, algo para todos. \n",
      "\n",
      "------------------------------------------------------------------------------------------------------------------------------ \n",
      "\n",
      "Texto original:  . . \n",
      "\n",
      "Texto traduzido:  ....................................................................................... \n",
      "\n",
      "------------------------------------------------------------------------------------------------------------------------------ \n",
      "\n"
     ]
    }
   ],
   "source": [
    "k = 0\n",
    "k_texts = []\n",
    "while k < 20:\n",
    "    if review_text[k][0:10] != textos[k][0:10].lower():\n",
    "        print(\"Texto original: \", review_text[k], \"\\n\\nTexto traduzido: \", textos[k],\"\\n\")\n",
    "        print(\"---\"*42,\"\\n\")\n",
    "        k_texts.append(textos[k])\n",
    "        k = k + 1\n",
    "    else:\n",
    "        k = k + 1"
   ]
  },
  {
   "cell_type": "code",
   "execution_count": 47,
   "metadata": {},
   "outputs": [
    {
     "data": {
      "text/plain": [
       "'ett mycket'"
      ]
     },
     "execution_count": 47,
     "metadata": {},
     "output_type": "execute_result"
    }
   ],
   "source": []
  },
  {
   "cell_type": "code",
   "execution_count": 48,
   "metadata": {},
   "outputs": [
    {
     "data": {
      "text/plain": [
       "'ett mycket'"
      ]
     },
     "execution_count": 48,
     "metadata": {},
     "output_type": "execute_result"
    }
   ],
   "source": []
  }
 ],
 "metadata": {
  "kernelspec": {
   "display_name": "Python 3 (ipykernel)",
   "language": "python",
   "name": "python3"
  },
  "language_info": {
   "codemirror_mode": {
    "name": "ipython",
    "version": 3
   },
   "file_extension": ".py",
   "mimetype": "text/x-python",
   "name": "python",
   "nbconvert_exporter": "python",
   "pygments_lexer": "ipython3",
   "version": "3.10.2"
  }
 },
 "nbformat": 4,
 "nbformat_minor": 2
}
